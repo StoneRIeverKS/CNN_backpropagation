{
 "cells": [
  {
   "cell_type": "markdown",
   "id": "1a0c7a70",
   "metadata": {},
   "source": [
    "# 信号機の問題\n",
    "スクリプトなし"
   ]
  },
  {
   "cell_type": "markdown",
   "id": "482716d8",
   "metadata": {},
   "source": [
    "# データの準備\n",
    "スクリプトなし"
   ]
  },
  {
   "cell_type": "markdown",
   "id": "587becd8",
   "metadata": {},
   "source": [
    "# 行列と行列関係\n",
    "スクリプトなし"
   ]
  },
  {
   "cell_type": "markdown",
   "id": "b26cc281",
   "metadata": {},
   "source": [
    "# Pythonで行列を作成する\n",
    "Pythonの代わりにJuliaを使って勉強する"
   ]
  },
  {
   "cell_type": "code",
   "execution_count": 6,
   "id": "2bf3a957",
   "metadata": {
    "ExecuteTime": {
     "end_time": "2023-10-09T22:54:01.513000+09:00",
     "start_time": "2023-10-09T13:54:01.461Z"
    }
   },
   "outputs": [
    {
     "name": "stdout",
     "output_type": "stream",
     "text": [
      "[1, 0, 1]\n",
      "[0, 1, 1]\n",
      "[0, 0, 1]\n",
      "[1, 1, 1]\n",
      "[0, 1, 1]\n",
      "[1, 0, 1]\n"
     ]
    }
   ],
   "source": [
    "# 特徴量\n",
    "streetlights = [\n",
    "    1 0 1\n",
    "    0 1 1\n",
    "    0 0 1\n",
    "    1 1 1\n",
    "    0 1 1\n",
    "    1 0 1\n",
    "]\n",
    "\n",
    "# 特徴量の表示\n",
    "for i=1:size(streetlights)[1]\n",
    "    println(streetlights[i, :])\n",
    "end"
   ]
  },
  {
   "cell_type": "code",
   "execution_count": 7,
   "id": "b3cba0a2",
   "metadata": {
    "ExecuteTime": {
     "end_time": "2023-10-09T22:55:43.338000+09:00",
     "start_time": "2023-10-09T13:55:43.277Z"
    }
   },
   "outputs": [
    {
     "name": "stdout",
     "output_type": "stream",
     "text": [
      "0\n",
      "1\n",
      "0\n",
      "1\n",
      "1\n",
      "0\n"
     ]
    }
   ],
   "source": [
    "# 目的変数\n",
    "walk_vs_stops = [\n",
    "    0\n",
    "    1\n",
    "    0\n",
    "    1\n",
    "    1\n",
    "    0\n",
    "]\n",
    "\n",
    "# 目的変数の表示\n",
    "for walk_vs_stop in walk_vs_stops\n",
    "    println(walk_vs_stop)\n",
    "end "
   ]
  },
  {
   "cell_type": "markdown",
   "id": "cca59e53",
   "metadata": {},
   "source": [
    "# ニューラルネットワークを構築する"
   ]
  },
  {
   "cell_type": "code",
   "execution_count": 43,
   "id": "5a766e12",
   "metadata": {
    "ExecuteTime": {
     "end_time": "2023-10-10T23:37:02.343000+09:00",
     "start_time": "2023-10-10T14:37:02.239Z"
    }
   },
   "outputs": [
    {
     "name": "stdout",
     "output_type": "stream",
     "text": [
      "Error:0.7513608525319304 Prediction:0.8668107362809545\n",
      "Error:0.4808709456204353 Prediction:0.6934485890247635\n",
      "Error:0.30775740519707867 Prediction:0.5547588712198108\n",
      "Error:0.19696473932613043 Prediction:0.44380709697584875\n",
      "Error:0.12605743316872342 Prediction:0.35504567758067895\n",
      "Error:0.08067675722798302 Prediction:0.2840365420645432\n",
      "Error:0.05163312462590915 Prediction:0.2272292336516346\n",
      "Error:0.03304519976058186 Prediction:0.1817833869213077\n",
      "Error:0.021148927846772397 Prediction:0.14542670953704617\n",
      "Error:0.013535313821934344 Prediction:0.11634136762963698\n",
      "Error:0.008662600846037975 Prediction:0.09307309410370956\n",
      "Error:0.005544064541464308 Prediction:0.07445847528296767\n",
      "Error:0.0035482013065371624 Prediction:0.05956678022637418\n",
      "Error:0.0022708488361837796 Prediction:0.0476534241810993\n",
      "Error:0.0014533432551576172 Prediction:0.03812273934487942\n",
      "Error:0.0009301396833008723 Prediction:0.03049819147590349\n",
      "Error:0.0005952893973125594 Prediction:0.024398553180722815\n",
      "Error:0.000380985214280038 Prediction:0.019518842544578252\n",
      "Error:0.0002438305371392257 Prediction:0.015615074035662646\n",
      "Error:0.000156051543769105 Prediction:0.012492059228530139\n"
     ]
    }
   ],
   "source": [
    "# ライブラリ呼び出し\n",
    "using LinearAlgebra, Printf\n",
    "\n",
    "\"\"\"\n",
    "パラメータ\n",
    "\"\"\"\n",
    "# パラメータの初期値\n",
    "weights = vec(rand(1, 3))\n",
    "    \n",
    "# 学習率\n",
    "α = 0.1\n",
    "\n",
    "# 特徴量\n",
    "streetlights = [\n",
    "    1 0 1\n",
    "    0 1 1\n",
    "    0 0 1\n",
    "    1 1 1\n",
    "    0 1 1\n",
    "    1 0 1\n",
    "]\n",
    "\n",
    "# 目的変数\n",
    "walk_vs_stops = [\n",
    "    0\n",
    "    1\n",
    "    0\n",
    "    1\n",
    "    1\n",
    "    0\n",
    "]\n",
    "\n",
    "\"\"\"\n",
    "ニューラルネットワークの更新\n",
    "\"\"\"\n",
    "# ニューラルネットワークの入力\n",
    "input = streetlights[1, :]\n",
    "goal_prediction = walk_vs_stops[1]\n",
    "\n",
    "for i=1:20\n",
    "    pred = weights⋅input\n",
    "    weight_delta = pred-goal_prediction\n",
    "    err = weight_delta^2\n",
    "    weights -= α*(weight_delta*input)\n",
    "    #print(\"Error:\")\n",
    "    println(\"Error:\", err, \" Prediction:\", pred)\n",
    "end"
   ]
  },
  {
   "cell_type": "markdown",
   "id": "e58e9d8b",
   "metadata": {
    "ExecuteTime": {
     "end_time": "2023-10-10T23:19:53.648000+09:00",
     "start_time": "2023-10-10T14:19:53.637Z"
    }
   },
   "source": [
    "# データセット全体を学習する"
   ]
  },
  {
   "cell_type": "code",
   "execution_count": 11,
   "id": "1be092dc",
   "metadata": {
    "ExecuteTime": {
     "end_time": "2023-10-13T17:22:17.079000+09:00",
     "start_time": "2023-10-13T08:22:16.983Z"
    }
   },
   "outputs": [
    {
     "name": "stdout",
     "output_type": "stream",
     "text": [
      "MSE:0.3258760661434774\n",
      "MSE:0.19983489189952985\n",
      "MSE:0.12974500553076782\n",
      "MSE:0.08571270663435254\n",
      "MSE:0.057273330790962085\n",
      "MSE:0.038742858354179975\n",
      "MSE:0.026592513656249057\n",
      "MSE:0.018568252552787223\n",
      "MSE:0.01322129275359439\n",
      "MSE:0.009618363783037343\n",
      "MSE:0.0071572153542386495\n",
      "MSE:0.005448403237020308\n",
      "MSE:0.0042394228349671\n",
      "MSE:0.0033659862759335226\n",
      "MSE:0.0027207141537023386\n",
      "MSE:0.002233005453818058\n",
      "MSE:0.001856085174171558\n",
      "MSE:0.001558662476605165\n",
      "MSE:0.0013195515476539111\n",
      "MSE:0.0011241972188077195\n",
      "[-0.04472460127743664, 0.9356495267051717, 0.0628172566244786]\n"
     ]
    }
   ],
   "source": [
    "# ライブラリ呼び出し\n",
    "using LinearAlgebra, Printf, Statistics\n",
    "\n",
    "\"\"\"\n",
    "パラメータ\n",
    "\"\"\"\n",
    "# パラメータの初期値\n",
    "weights = vec(rand(1, 3))\n",
    "\n",
    "    \n",
    "# 学習率\n",
    "α = 0.1\n",
    "\n",
    "# 特徴量\n",
    "streetlights = [\n",
    "    1 0 1\n",
    "    0 1 1\n",
    "    0 0 1\n",
    "    1 1 1\n",
    "    0 1 1\n",
    "    1 0 1\n",
    "]\n",
    "\n",
    "# 目的変数\n",
    "walk_vs_stops = [\n",
    "    0\n",
    "    1\n",
    "    0\n",
    "    1\n",
    "    1\n",
    "    0\n",
    "]\n",
    "\n",
    "\"\"\"\n",
    "ニューラルネットワークの更新\n",
    "\"\"\"\n",
    "# ニューラルネットワークの入力\n",
    "for i=1:20\n",
    "    for index=1:size(walk_vs_stops)[1]\n",
    "        input = streetlights[index, :]\n",
    "        goal_prediction = walk_vs_stops[index]\n",
    "        pred = input⋅weights\n",
    "        weight_delta = pred-goal_prediction\n",
    "        weights -= α*(weight_delta*input)\n",
    "        #println(\"Error:\", err, \" Prediction:\", pred)\n",
    "    end\n",
    "    # 全体の誤差を計算する\n",
    "    ## 全ての予測値を計算する\n",
    "    pred_list = streetlights*weights\n",
    "    ## 各要素の二乗   \n",
    "    squared_errors = (pred_list-walk_vs_stops).^2\n",
    "    error_for_all_lights = mean(squared_errors)\n",
    "    \n",
    "    # MSEの表示\n",
    "    println(\"MSE:\", error_for_all_lights)\n",
    "end\n",
    "println(weights)"
   ]
  },
  {
   "cell_type": "markdown",
   "id": "5427f357",
   "metadata": {},
   "source": [
    "# 完全勾配降下法、バッチ勾配降下法、確率的勾配降下法\n",
    "スクリプトなし"
   ]
  },
  {
   "cell_type": "markdown",
   "id": "b48b60ed",
   "metadata": {},
   "source": [
    "# ニューラルネットワークは相関を学習する\n",
    "スクリプトなし"
   ]
  },
  {
   "cell_type": "markdown",
   "id": "c9e2fee6",
   "metadata": {},
   "source": [
    "# 重みの圧力\n",
    "スクリプトなし"
   ]
  },
  {
   "cell_type": "markdown",
   "id": "36d5b871",
   "metadata": {},
   "source": [
    "# エッジケース：過学習\n",
    "スクリプトなし"
   ]
  },
  {
   "cell_type": "markdown",
   "id": "e61f25d0",
   "metadata": {},
   "source": [
    "# エッジケース：相反する圧力\n",
    "スクリプトなし"
   ]
  },
  {
   "cell_type": "markdown",
   "id": "6db8ffb2",
   "metadata": {},
   "source": [
    "# 間接学習を学習する\n",
    "スクリプトなし"
   ]
  },
  {
   "cell_type": "markdown",
   "id": "645922a2",
   "metadata": {},
   "source": [
    "# 相関を作り出す\n",
    "スクリプトなし"
   ]
  },
  {
   "cell_type": "markdown",
   "id": "23e7aca8",
   "metadata": {},
   "source": [
    "# ニューラルネットワークを積み重ねる\n",
    "スクリプトなし"
   ]
  },
  {
   "cell_type": "markdown",
   "id": "ba75e178",
   "metadata": {},
   "source": [
    "# 誤差逆伝播法：誤差の原因を突き止める\n",
    "スクリプトなし"
   ]
  },
  {
   "cell_type": "markdown",
   "id": "5c9befd4",
   "metadata": {},
   "source": [
    "# 誤差逆伝播法はどのような仕組みになっているか\n",
    "スクリプトなし"
   ]
  },
  {
   "cell_type": "markdown",
   "id": "fc5df608",
   "metadata": {},
   "source": [
    "# 線形と非線形\n",
    "スクリプトなし"
   ]
  },
  {
   "cell_type": "markdown",
   "id": "736023f1",
   "metadata": {},
   "source": [
    "# ニューラルネットワークがまだうまくいかないのはなぜか\n",
    "スクリプトなし  \n",
    "(補足)  \n",
    "単純に中間層を用意しただけだと、ニューラルネットワークが一意にならないという問題が発生する。この問題について説明する。  \n",
    "入力層の値を$\\boldsymbol{x}$、中間層の値を$\\boldsymbol{h}$、出力層の値を$y$とする。このとき、パラメータ行列を$W_1, W_2$とすると、\n",
    "$$\\boldsymbol{h} = W_1 \\boldsymbol{x}$$\n",
    "$$\\boldsymbol{y} = W_2 \\boldsymbol{h}$$\n",
    "となる。したがって、\n",
    "$$\\boldsymbol{y} = W_2 W_1 \\boldsymbol{x}$$\n",
    "となる。このとき、$W=W_2 W_1$とすれば、\n",
    "$$\\boldsymbol{y} = W \\boldsymbol{x}$$\n",
    "となり、中間層のないニューラルネットワークと同価なモデルとなってしまう。したがって、単純に中間層を設定するのではなく、活性化関数を入れる必要が生じるのである。"
   ]
  },
  {
   "cell_type": "markdown",
   "id": "c57bbf41",
   "metadata": {},
   "source": [
    "# 条件付き層間の秘密\n",
    "スクリプトなし"
   ]
  },
  {
   "cell_type": "markdown",
   "id": "1712b349",
   "metadata": {},
   "source": [
    "# ちょっとひと息\n",
    "スクリプトなし"
   ]
  },
  {
   "cell_type": "markdown",
   "id": "40dba77a",
   "metadata": {},
   "source": [
    "# 初めてのディープニューラルネットワーク"
   ]
  },
  {
   "cell_type": "code",
   "execution_count": 20,
   "id": "41b5fab1",
   "metadata": {
    "ExecuteTime": {
     "end_time": "2023-10-15T00:02:01.843000+09:00",
     "start_time": "2023-10-14T15:02:01.760Z"
    }
   },
   "outputs": [
    {
     "data": {
      "text/plain": [
       "1×1 Matrix{Float64}:\n",
       " 0.9219579532303236"
      ]
     },
     "execution_count": 20,
     "metadata": {},
     "output_type": "execute_result"
    }
   ],
   "source": [
    "using LinearAlgebra\n",
    "\"\"\"\n",
    "データ\n",
    "\"\"\"\n",
    "# 特徴量\n",
    "streetlights = [\n",
    "    1 0 1\n",
    "    0 1 1\n",
    "    0 0 1\n",
    "    1 1 1\n",
    "]\n",
    "\n",
    "# 目的変数\n",
    "walk_vs_stop = [\n",
    "    1\n",
    "    1\n",
    "    0\n",
    "    0\n",
    "]\n",
    "\n",
    "\"\"\"\n",
    "パラメータ\n",
    "\"\"\"\n",
    "# 学習率\n",
    "α = 0.2\n",
    "\n",
    "# 入力層のサイズ\n",
    "input_size = size(streetlights[1, :])[1]\n",
    "\n",
    "# 隠れ層のサイズ\n",
    "hidden_size = 4\n",
    "\n",
    "# 出力層のサイズ\n",
    "output_size = 1\n",
    "\n",
    "# ランダムに初期化された3つの層を結合するパラメータの初期値\n",
    "W_0_1 = 2*rand(input_size, hidden_size).-1\n",
    "W_1_2 = 2*rand(hidden_size, output_size).-1\n",
    "\n",
    "\"\"\"\n",
    "関数\n",
    "\"\"\"\n",
    "relu(x) = (x>0)*x\n",
    "\n",
    "\"\"\"\n",
    "順伝播を行うコード\n",
    "\"\"\"\n",
    "# 入力層から隠れ層への伝播\n",
    "input = streetlights[1, :]'\n",
    "layer_1_1 = input*W_0_1\n",
    "# 隠れ層での活性化関数\n",
    "layer_1_2 = relu.(layer_1_1)\n",
    "# 出力層への伝播\n",
    "output = layer_1_2*W_1_2"
   ]
  },
  {
   "cell_type": "markdown",
   "id": "8229dc07",
   "metadata": {
    "ExecuteTime": {
     "end_time": "2023-10-14T23:46:28.633000+09:00",
     "start_time": "2023-10-14T14:46:28.630Z"
    }
   },
   "source": [
    "# 誤差逆伝播法のコード"
   ]
  },
  {
   "cell_type": "code",
   "execution_count": 10,
   "id": "dff03008",
   "metadata": {
    "ExecuteTime": {
     "end_time": "2023-10-25T22:21:27.076000+09:00",
     "start_time": "2023-10-25T13:21:21.547Z"
    }
   },
   "outputs": [
    {
     "name": "stdout",
     "output_type": "stream",
     "text": [
      "Error:0.320543047088703\n",
      "pred_list:[0.4417879211428695; 0.1415743693040159; 0.27216176216865884; 0.39950578863173564;;]\n",
      "Error:0.28513168361752445\n",
      "pred_list:[0.39999805964958307; 0.25712904632895045; 0.3000822939891355; 0.3723140731585575;;]\n",
      "Error:0.26476716806530043\n",
      "pred_list:[0.3776681785678061; 0.3342400148170598; 0.3167478028303308; 0.3580590004810082;;]\n",
      "Error:0.2509072593869179\n",
      "pred_list:[0.363482156311737; 0.3908003037453582; 0.3256986937228873; 0.34823865840048895;;]\n",
      "Error:0.24010205170666973\n",
      "pred_list:[0.3540239200084711; 0.4357496580242966; 0.32959444575134367; 0.3407523496846691;;]\n",
      "Error:0.23083012187762741\n",
      "pred_list:[0.3477653665654692; 0.47364056743059146; 0.32985878056789963; 0.33473781245401796;;]\n",
      "Error:0.2223471948188886\n",
      "pred_list:[0.3438928893151299; 0.5069708679321446; 0.3272673763668961; 0.3297431999035787;;]\n",
      "Error:0.21426179511782356\n",
      "pred_list:[0.3419379072590481; 0.5371846314368157; 0.32226125888342827; 0.3255012722145412;;]\n",
      "Error:0.20635941269857458\n",
      "pred_list:[0.34162352624674003; 0.5651393941320443; 0.31510615414232224; 0.32184225124789134;;]\n",
      "Error:0.19852171210635788\n",
      "pred_list:[0.3427886634973623; 0.5913456084938694; 0.305979094701235; 0.31865104661120286;;]\n",
      "Error:0.19068607249305056\n",
      "pred_list:[0.3453456604610516; 0.6161001470676766; 0.2950193740631365; 0.31584245683720424;;]\n",
      "Error:0.1828237478238988\n",
      "pred_list:[0.3492543038377095; 0.6395663627231726; 0.2823606227984162; 0.3133450207584891;;]\n",
      "Error:0.17492719016702218\n",
      "pred_list:[0.35450462089928086; 0.6618250131983633; 0.26815177232812093; 0.31108966798450255;;]\n",
      "Error:0.16700207482925822\n",
      "pred_list:[0.36110469874694046; 0.6829079839842643; 0.2525704875691894; 0.3090014490935819;;]\n",
      "Error:0.16663190912035386\n",
      "pred_list:[0.3689847588016597; 0.6346812165461341; 0.20175818514937913; 0.3068928526991664;;]\n",
      "Error:0.15420620268575516\n",
      "pred_list:[0.3833672059948241; 0.6852845875613132; 0.20008371966640034; 0.3122651475883845;;]\n",
      "Error:0.14484342437635317\n",
      "pred_list:[0.3935558731658756; 0.7174302485479335; 0.18786106311001585; 0.31058296003692965;;]\n",
      "Error:0.13644703084095433\n",
      "pred_list:[0.40398251275387703; 0.7416050088933526; 0.17187291710835226; 0.3069902395782249;;]\n",
      "Error:0.12841897880843495\n",
      "pred_list:[0.4158993166389922; 0.7615540161532903; 0.15465128297736694; 0.3028676284976203;;]\n",
      "Error:0.12057045456839816\n",
      "pred_list:[0.42955737556334084; 0.7786782643293386; 0.13728200444836117; 0.2984080613418065;;]\n",
      "Error:0.1128311234153902\n",
      "pred_list:[0.4449189690876382; 0.7936071057449382; 0.12035972398320408; 0.2934707018196815;;]\n",
      "Error:0.10516919077848728\n",
      "pred_list:[0.4618656926548795; 0.8067051586647067; 0.10427797292219242; 0.2878392590466748;;]\n",
      "Error:0.09757000614407454\n",
      "pred_list:[0.480256072171454; 0.8182348845146037; 0.08931259031666312; 0.2813022894772841;;]\n",
      "Error:0.09054701877948913\n",
      "pred_list:[0.49994045553142485; 0.8284137992195768; 0.08822953523814384; 0.27368275780041224;;]\n",
      "Error:0.0835170349698773\n",
      "pred_list:[0.5207642639979344; 0.8374394104174283; 0.08847688270741577; 0.26485306333703706;;]\n",
      "Error:0.07447918049662275\n",
      "pred_list:[0.5418413859754558; 0.8755849930793339; 0.08852291585687866; 0.25434623213786034;;]\n",
      "Error:0.06756196710420134\n",
      "pred_list:[0.5614602351034442; 0.8806206016494644; 0.08303750652174612; 0.2382940930476332;;]\n",
      "Error:0.06802853860368659\n",
      "pred_list:[0.5774846292761323; 0.8008334387180337; 0.07903355487511328; 0.21836046800586004;;]\n",
      "Error:0.052225368408985236\n",
      "pred_list:[0.6028565567082276; 0.921339311215976; 0.08125423245558233; 0.19593061229520206;;]\n",
      "Error:0.04333423387909977\n",
      "pred_list:[0.6314602032338736; 0.966779991796498; 0.07666042176226556; 0.17474256638315747;;]\n",
      "Error:0.035803229679403206\n",
      "pred_list:[0.6621040413511119; 0.9809544676079888; 0.06991691671290748; 0.1542340179714804;;]\n",
      "Error:0.028989236135642905\n",
      "pred_list:[0.6937953551092184; 0.9851801541638243; 0.06277762709197196; 0.13429445891761602;;]\n",
      "Error:0.022940796455368784\n",
      "pred_list:[0.7257488287155709; 0.9867039359499814; 0.055806484972483715; 0.1151448296120482;;]\n",
      "Error:0.017728926264831277\n",
      "pred_list:[0.7573013897305225; 0.987619607194903; 0.04919602153512308; 0.09715743394973231;;]\n",
      "Error:0.013376349214419514\n",
      "pred_list:[0.78785111629696; 0.9884761306958015; 0.04303454887900083; 0.08070610906413912;;]\n",
      "Error:0.009855049329318293\n",
      "pred_list:[0.816845012588222; 0.9893939575972873; 0.0373716296209181; 0.06607057641260118;;]\n",
      "Error:0.007095013053796033\n",
      "pred_list:[0.8438020297315503; 0.9903774522161394; 0.032231014580367645; 0.05339301988526284;;]\n",
      "Error:0.0051330098688958745\n",
      "pred_list:[0.8682024537787292; 0.9755651964998563; 0.027359784684585154; 0.04261254328901274;;]\n",
      "Error:0.0034895960644097377\n",
      "pred_list:[0.8899509564503737; 0.9893040790229437; 0.024432398892985308; 0.03370826946370908;;]\n",
      "Error:0.0023657692626268432\n",
      "pred_list:[0.9090323103955875; 0.9927641032854387; 0.020800697667034594; 0.026512813389820793;;]\n",
      "Error:0.0015805961187668504\n",
      "pred_list:[0.9254885956023253; 0.9941685922072069; 0.01745913770334863; 0.02077518432080088;;]\n",
      "Error:0.0010417357752392237\n",
      "pred_list:[0.9394358203556715; 0.9951281743259104; 0.014549321598501454; 0.016232861749890675;;]\n",
      "Error:0.0006787051835366327\n",
      "pred_list:[0.9510854335783157; 0.9959308218176849; 0.01205650178246968; 0.012659718781040788;;]\n",
      "Error:0.00043799920881375807\n",
      "pred_list:[0.9606996855920996; 0.9966250970697476; 0.009940163246430446; 0.009863331462588937;;]\n",
      "Error:0.0002804950375152269\n",
      "pred_list:[0.9685563487172215; 0.9972216479371155; 0.008156908021608511; 0.0076826138396782016;;]\n",
      "Error:0.00017853369917581792\n",
      "pred_list:[0.9749256013885153; 0.997727779588624; 0.006664725892322454; 0.005985630639955684;;]\n",
      "Error:0.00011309229999053543\n",
      "pred_list:[0.980056139945248; 0.9981520990240523; 0.005424173111172237; 0.004666396267114093;;]\n",
      "Error:7.137338354244663e-5\n",
      "pred_list:[0.9841681181494194; 0.9985042276775529; 0.004398956449087979; 0.0036410024110774234;;]\n",
      "Error:4.7178147141550607e-5\n",
      "pred_list:[0.9874468628799696; 0.9967659363981931; 0.0035488742012731965; 0.002842122716373013;;]\n",
      "Error:2.8786144704934892e-5\n",
      "pred_list:[0.9900221982914099; 0.9987065356188067; 0.003006731471600445; 0.002207842303260837;;]\n",
      "Error:1.805273743372145e-5\n",
      "pred_list:[0.9920866211098115; 0.9991556270629878; 0.002427370819822348; 0.0017275096299358423;;]\n",
      "Error:1.1328151770487525e-5\n",
      "pred_list:[0.9937323391236781; 0.9993535669008703; 0.0019420854912613394; 0.0013562678254517087;;]\n",
      "Error:7.102095588267588e-6\n",
      "pred_list:[0.9950393610479487; 0.9994887622339662; 0.0015498819841400328; 0.0010662763817511057;;]\n",
      "Error:4.449059349903497e-6\n",
      "pred_list:[0.9960755259111855; 0.9995936269578707; 0.0012352344636110649; 0.0008389262758883515;;]\n",
      "Error:2.7854087720406835e-6\n",
      "pred_list:[0.9968961466228289; 0.9996769545841953; 0.0009834636818782962; 0.0006604317882568255;;]\n",
      "Error:1.7430892652393779e-6\n",
      "pred_list:[0.9975456434338406; 0.9997433701212672; 0.0007823353854133633; 0.0005201762751022666;;]\n",
      "Error:1.0904730424985626e-6\n",
      "pred_list:[0.9980594728485769; 0.9997962730318829; 0.0006218758301011669; 0.0004098930579818527;;]\n",
      "Error:6.820501271562436e-7\n",
      "pred_list:[0.9984658477119535; 0.999838367142233; 0.0004940068101214064; 0.00032312436700172533;;]\n",
      "Error:4.265351594388227e-7\n",
      "pred_list:[0.9987871718117375; 0.999871827799844; 0.00039220898944253356; 0.0002548184043957199;;]\n",
      "Error:2.6671885713832337e-7\n",
      "pred_list:[0.9990412105643851; 0.9998984036618026; 0.00031123575081738817; 0.00020101924829375302;;]\n"
     ]
    }
   ],
   "source": [
    "using LinearAlgebra, Statistics, Random\n",
    "\"\"\"\n",
    "データ\n",
    "\"\"\"\n",
    "# 特徴量\n",
    "streetlights = [\n",
    "    1 0 1\n",
    "    0 1 1\n",
    "    0 0 1\n",
    "    1 1 1\n",
    "]\n",
    "\n",
    "# 目的変数\n",
    "walk_vs_stop = [\n",
    "    1\n",
    "    1\n",
    "    0\n",
    "    0\n",
    "]\n",
    "\n",
    "\"\"\"\n",
    "パラメータ\n",
    "\"\"\"\n",
    "# 学習率\n",
    "α = 0.2\n",
    "\n",
    "# 入力層のサイズ\n",
    "input_size = size(streetlights[1, :])[1]\n",
    "\n",
    "# 隠れ層のサイズ\n",
    "hidden_size = 4\n",
    "\n",
    "# 出力層のサイズ\n",
    "output_size = 1\n",
    "\n",
    "# ランダムに初期化された3つの層を結合するパラメータの初期値\n",
    "#W_0_1 = 2*rand(input_size, hidden_size).-1\n",
    "#W_1_2 = 2*rand(hidden_size, output_size).-1\n",
    "Random.seed!(1)\n",
    "W_0_1 = 2*rand(input_size, hidden_size).-1\n",
    "W_1_2 = 2*rand(hidden_size).-1\n",
    "\n",
    "\"\"\"\n",
    "関数\n",
    "\"\"\"\n",
    "relu(x) = (x>0)*x\n",
    "\n",
    "relu2deriv(output) = output>0\n",
    "\n",
    "\n",
    "\"\"\"\n",
    "誤差逆伝播法\n",
    "\"\"\"\n",
    "# MSEを保存する用のリストを作成\n",
    "mse_list = []\n",
    "\n",
    "for iteration=1:60\n",
    "    for index=1:size(walk_vs_stop)[1]\n",
    "        # 順伝播\n",
    "        layer_0 = streetlights[index, :]'\n",
    "        layer_1_1 = layer_0*W_0_1 # 中間層の活性化関数に入れる前\n",
    "        layer_1_2 = relu.(layer_1_1) # 中間層の活性化関数に入れた後\n",
    "        layer_2 = layer_1_2*W_1_2\n",
    "        \n",
    "        \n",
    "\n",
    "        # 更新式の差分\n",
    "        ## layer_2のパラメータの更新式の差分\n",
    "        ### layer_2ではなく、layer_2[1]としているのは、layer2が(1, 1)の行列になっているから\n",
    "        layer_2_delta = layer_2[1]-walk_vs_stop[index]\n",
    "        W_1_2_delta = α*layer_2_delta*layer_1_2'\n",
    "        ## layer_1のパラメータの更新式の差分\n",
    "        W_0_1_delta = α*layer_2_delta*layer_0'*(W_1_2'.*relu2deriv.(layer_1_1))\n",
    "        \n",
    "\n",
    "        # 更新\n",
    "        W_1_2 = W_1_2-W_1_2_delta\n",
    "        W_0_1 = W_0_1-W_0_1_delta\n",
    "    end\n",
    "    \n",
    "    # MSE(Mean Square Error)の計算\n",
    "    ## 全てのデータに対して順伝播を行う\n",
    "    Layer_1_1 = streetlights*W_0_1 # 中間層の活性化関数に入れる前\n",
    "    Layer_1_2 = relu.(Layer_1_1) # 中間層の活性化関数に入れた後\n",
    "    pred_list = Layer_1_2*W_1_2\n",
    "    \n",
    "\n",
    "    mse = mean((pred_list-walk_vs_stop).^2)\n",
    "    push!(mse_list, mse)\n",
    "    println(\"Error:\", mse)\n",
    "    println(\"pred_list:\", pred_list)\n",
    "    \n",
    "end"
   ]
  },
  {
   "cell_type": "code",
   "execution_count": 21,
   "id": "a9736dc3",
   "metadata": {
    "ExecuteTime": {
     "end_time": "2023-10-25T22:25:46.305000+09:00",
     "start_time": "2023-10-25T13:25:40.619Z"
    }
   },
   "outputs": [
    {
     "name": "stderr",
     "output_type": "stream",
     "text": [
      "\u001b[32m\u001b[1m   Resolving\u001b[22m\u001b[39m package versions...\n",
      "\u001b[32m\u001b[1m  No Changes\u001b[22m\u001b[39m to `C:\\Users\\stone\\.julia\\environments\\v1.9\\Project.toml`\n",
      "\u001b[32m\u001b[1m  No Changes\u001b[22m\u001b[39m to `C:\\Users\\stone\\.julia\\environments\\v1.9\\Manifest.toml`\n"
     ]
    },
    {
     "data": {
      "image/png": "[encoded data removed]",
      "text/plain": [
       "Figure(PyObject <Figure size 640x480 with 1 Axes>)"
      ]
     },
     "metadata": {},
     "output_type": "display_data"
    },
    {
     "data": {
      "text/plain": [
       "PyObject Text(24.000000000000007, 0.5, 'MSE')"
      ]
     },
     "execution_count": 21,
     "metadata": {},
     "output_type": "execute_result"
    }
   ],
   "source": [
    "import Pkg\n",
    "Pkg.add(\"PyPlot\")\n",
    "using PyPlot\n",
    "\n",
    "# 折れ線グラフを描画\n",
    "plot(1:size(mse_list)[1], mse_list)\n",
    "xlabel(\"iteration\")\n",
    "ylabel(\"MSE\")"
   ]
  },
  {
   "cell_type": "markdown",
   "id": "dca5ab89",
   "metadata": {},
   "source": [
    "# 誤差逆伝播法の1回のイテレーション\n",
    "スクリプトはあるが、6.22で書ききっているので書かない"
   ]
  },
  {
   "cell_type": "markdown",
   "id": "da8520ff",
   "metadata": {},
   "source": [
    "# ここまでのまとめ\n",
    "スクリプトはあるが、6.22で書ききっているので書かない"
   ]
  },
  {
   "cell_type": "markdown",
   "id": "cfdc3830",
   "metadata": {},
   "source": [
    "# ディープニューラルネットワークはなぜ重要か\n",
    "スクリプトなし"
   ]
  },
  {
   "cell_type": "markdown",
   "id": "5b247f7d",
   "metadata": {},
   "source": [
    "# メモ"
   ]
  },
  {
   "cell_type": "code",
   "execution_count": 9,
   "id": "37245582",
   "metadata": {
    "ExecuteTime": {
     "end_time": "2023-10-25T22:21:04.460000+09:00",
     "start_time": "2023-10-25T13:20:42.418Z"
    }
   },
   "outputs": [
    {
     "name": "stderr",
     "output_type": "stream",
     "text": [
      "\u001b[32m\u001b[1m   Resolving\u001b[22m\u001b[39m package versions...\n",
      "\u001b[32m\u001b[1m  No Changes\u001b[22m\u001b[39m to `C:\\Users\\stone\\.julia\\environments\\v1.9\\Project.toml`\n",
      "\u001b[32m\u001b[1m  No Changes\u001b[22m\u001b[39m to `C:\\Users\\stone\\.julia\\environments\\v1.9\\Manifest.toml`\n"
     ]
    }
   ],
   "source": [
    "\n",
    "using PyPlot"
   ]
  },
  {
   "cell_type": "code",
   "execution_count": 20,
   "id": "fe132e1b",
   "metadata": {
    "ExecuteTime": {
     "end_time": "2023-10-25T22:25:04.559000+09:00",
     "start_time": "2023-10-25T13:25:04.398Z"
    }
   },
   "outputs": [
    {
     "data": {
      "image/png": "[encoded data removed]",
      "text/plain": [
       "Figure(PyObject <Figure size 640x480 with 1 Axes>)"
      ]
     },
     "metadata": {},
     "output_type": "display_data"
    },
    {
     "data": {
      "text/plain": [
       "PyObject Text(24.000000000000007, 0.5, 'MSE')"
      ]
     },
     "execution_count": 20,
     "metadata": {},
     "output_type": "execute_result"
    }
   ],
   "source": []
  },
  {
   "cell_type": "code",
   "execution_count": null,
   "id": "defdf2a2",
   "metadata": {},
   "outputs": [],
   "source": []
  },
  {
   "cell_type": "code",
   "execution_count": null,
   "id": "eabdf248",
   "metadata": {},
   "outputs": [],
   "source": []
  },
  {
   "cell_type": "code",
   "execution_count": 13,
   "id": "8008f0c3",
   "metadata": {
    "ExecuteTime": {
     "end_time": "2023-10-25T22:22:22.433000+09:00",
     "start_time": "2023-10-25T13:22:22.120Z"
    }
   },
   "outputs": [
    {
     "data": {
      "text/plain": [
       "(60,)"
      ]
     },
     "execution_count": 13,
     "metadata": {},
     "output_type": "execute_result"
    }
   ],
   "source": []
  }
 ],
 "metadata": {
  "kernelspec": {
   "display_name": "Julia 1.9.2",
   "language": "julia",
   "name": "julia-1.9"
  },
  "language_info": {
   "file_extension": ".jl",
   "mimetype": "application/julia",
   "name": "julia",
   "version": "1.9.2"
  },
  "toc": {
   "base_numbering": 1,
   "nav_menu": {},
   "number_sections": true,
   "sideBar": true,
   "skip_h1_title": false,
   "title_cell": "Table of Contents",
   "title_sidebar": "Contents",
   "toc_cell": false,
   "toc_position": {},
   "toc_section_display": true,
   "toc_window_display": false
  }
 },
 "nbformat": 4,
 "nbformat_minor": 5
}
