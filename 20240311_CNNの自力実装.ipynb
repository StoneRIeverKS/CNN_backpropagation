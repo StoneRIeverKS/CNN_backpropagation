{
 "cells": [
  {
   "cell_type": "markdown",
   "metadata": {},
   "source": [
    "# import"
   ]
  },
  {
   "cell_type": "code",
   "execution_count": 233,
   "metadata": {},
   "outputs": [],
   "source": [
    "import numpy as np\n",
    "from tensorflow.keras import datasets"
   ]
  },
  {
   "cell_type": "markdown",
   "metadata": {},
   "source": [
    "# データの読み込み"
   ]
  },
  {
   "cell_type": "code",
   "execution_count": 234,
   "metadata": {},
   "outputs": [],
   "source": [
    "mnist = datasets.mnist\n",
    "(x_train, y_train), (x_test, y_test) = mnist.load_data()\n",
    "\n",
    "# 時間かかるので最初の100枚だけ取得\n",
    "x_train = x_train[0:1000, :, :]\n",
    "y_train = y_train[0:1000]\n",
    "x_test = x_test[0:100, :, :]\n",
    "y_test = y_test[0:100]"
   ]
  },
  {
   "cell_type": "markdown",
   "metadata": {},
   "source": [
    "# データの整形"
   ]
  },
  {
   "cell_type": "code",
   "execution_count": 235,
   "metadata": {},
   "outputs": [],
   "source": [
    "# グレースケールを0～1の間に変換\n",
    "## 訓練データ\n",
    "train_images = x_train / 255\n",
    "## テストデータ\n",
    "test_images = x_test / 255\n",
    "\n",
    "# one-hot-encoding\n",
    "## 訓練データ\n",
    "train_one_hot_labels = np.zeros((len(y_train), 10))\n",
    "for i, l in enumerate(y_train):\n",
    "    train_one_hot_labels[i][l] = 1\n",
    "\n",
    "## テストデータ\n",
    "test_one_hot_labels = np.zeros((len(y_test), 10))\n",
    "for i, l in enumerate(y_test):\n",
    "    test_one_hot_labels[i][l] = 1"
   ]
  },
  {
   "cell_type": "markdown",
   "metadata": {},
   "source": [
    "# 活性化関数"
   ]
  },
  {
   "cell_type": "code",
   "execution_count": 236,
   "metadata": {},
   "outputs": [],
   "source": [
    "# 活性化関数を定義\n",
    "## 双曲線正接関数を定義\n",
    "def tanh(x):\n",
    "    return np.tanh(x)\n",
    "\n",
    "## 双曲線正接関数の微分を定義\n",
    "def tanh_deriv(x):\n",
    "    return 1 - tanh(x)*tanh(x)\n",
    "\n",
    "## softmax関数を定義\n",
    "def softmax(x):\n",
    "    exp_x = np.exp(x)\n",
    "    return exp_x / np.sum(exp_x)\n",
    "# , axis=1, keepdims=True"
   ]
  },
  {
   "cell_type": "markdown",
   "metadata": {},
   "source": [
    "# パラメータ"
   ]
  },
  {
   "cell_type": "code",
   "execution_count": 237,
   "metadata": {},
   "outputs": [],
   "source": [
    "# 学習率とイテレーション回数\n",
    "alpha, iterations = (0.02, 300)\n",
    "\n",
    "# 1画像あたりのピクセル数とラベルのクラス数\n",
    "num_labels = 10\n",
    "\n",
    "# バッチサイズ\n",
    "batch_size = 2\n",
    "\n",
    "# 入力画像のサイズ\n",
    "_, input_rows, input_cols = x_train.shape\n",
    "\n",
    "# カーネルに関するハイパーパラメータ\n",
    "kernel_rows = 3\n",
    "kernel_cols = 3\n",
    "num_kernels = 16\n",
    "\n",
    "# 隠れ層のサイズ\n",
    "hidden_size = ((input_rows-kernel_rows+1) * (input_cols-kernel_cols+1)) * num_kernels"
   ]
  },
  {
   "cell_type": "markdown",
   "metadata": {},
   "source": [
    "# カーネルの初期値"
   ]
  },
  {
   "cell_type": "code",
   "execution_count": 238,
   "metadata": {},
   "outputs": [],
   "source": [
    "kernels = 0.02 * np.random.random((num_kernels, kernel_rows*kernel_cols)) - 0.01\n",
    "weights_1_2 = 0.2 * np.random.random((num_labels, hidden_size)) - 0.01\n"
   ]
  },
  {
   "cell_type": "markdown",
   "metadata": {},
   "source": [
    "# 順伝播の実装"
   ]
  },
  {
   "cell_type": "markdown",
   "metadata": {},
   "source": [
    "## im2colの実装"
   ]
  },
  {
   "cell_type": "code",
   "execution_count": 239,
   "metadata": {},
   "outputs": [],
   "source": [
    "def im2col(image, F_h, F_w):\n",
    "    O_h = image.shape[0]-F_h+1\n",
    "    O_w = image.shape[1]-F_w+1\n",
    "    \n",
    "    col = np.empty((F_h, F_w, O_h, O_w))\n",
    "\n",
    "    for h in range(F_h):\n",
    "        for w in range(F_w):\n",
    "            col[h, w, :, :] = image[h : h+O_h, w : w+O_w]\n",
    "    return col.reshape(F_h*F_w, O_h*O_w)\n"
   ]
  },
  {
   "cell_type": "code",
   "execution_count": 240,
   "metadata": {},
   "outputs": [
    {
     "name": "stdout",
     "output_type": "stream",
     "text": [
      "[[0. 0. 0. ... 0. 0. 0.]\n",
      " [0. 0. 0. ... 0. 0. 0.]\n",
      " [0. 0. 0. ... 0. 0. 0.]\n",
      " ...\n",
      " [0. 0. 0. ... 0. 0. 0.]\n",
      " [0. 0. 0. ... 0. 0. 0.]\n",
      " [0. 0. 0. ... 0. 0. 0.]]\n",
      "(9, 676)\n"
     ]
    }
   ],
   "source": [
    "# im2colの挙動確認\n",
    "im2col_ex = im2col(train_images[0], F_h=kernel_rows, F_w=kernel_cols)\n",
    "print(im2col_ex)\n",
    "print(im2col_ex.shape)"
   ]
  },
  {
   "cell_type": "markdown",
   "metadata": {},
   "source": [
    "## 順伝播本体の実装"
   ]
  },
  {
   "cell_type": "code",
   "execution_count": 241,
   "metadata": {},
   "outputs": [],
   "source": [
    "def cnn(image, kernels, weights_1_2):\n",
    "    # im2colによる変換\n",
    "    col_from_image = im2col(image, F_h=kernel_rows, F_w=kernel_cols)\n",
    "    # 畳み込み演算\n",
    "    cnn_output = np.dot(kernels, col_from_image)\n",
    "    # 全結合層への入力に変換\n",
    "    fcn_input = tanh(cnn_output.reshape(-1))\n",
    "    # 全結合層の出力\n",
    "    fcn_output = np.dot(weights_1_2, fcn_input)\n",
    "    # 出力層の出力\n",
    "    ol_output = softmax(fcn_output)\n",
    "    # 最終出力\n",
    "    return np.argmax(ol_output)"
   ]
  },
  {
   "cell_type": "code",
   "execution_count": 242,
   "metadata": {},
   "outputs": [
    {
     "name": "stdout",
     "output_type": "stream",
     "text": [
      "Accuracy: 0.11\n"
     ]
    }
   ],
   "source": [
    "# Accuracyの計算\n",
    "acc = 0\n",
    "for image, label in zip(x_test, y_test):\n",
    "    result = cnn(image=image, kernels=kernels, weights_1_2=weights_1_2)\n",
    "    acc += int(result==label)\n",
    "\n",
    "print(\"Accuracy:\", acc / len(x_test))\n",
    "    "
   ]
  },
  {
   "cell_type": "markdown",
   "metadata": {},
   "source": [
    "# 逆伝播の実装\n",
    "推定対象は<code>kernels</code>と<code>weights_1_2</code>の二つ。順伝播では、im2colで得られた行列を$C$とすると、\n",
    "- 畳み込み演算後の出力：$X^{(10)} = KC$。(ただし、$K$は<code>kernels</code>のこと)\n",
    "- 本当はここでflattenを行うので、$X^{(10)}$は1次元のベクトルに変換される\n",
    "- 活性化関数${\\rm tanh}$をかました後の出力：$X^{(11)} = {\\rm tanh}(X^{(10)})$\n",
    "- 全結合層の出力：$X^{(20)} = WX^{(11)}$。(ただし、$W$は<code>weights_1_2</code>のこと)\n",
    "- 出力層の出力：$X^{(21)} = {\\rm softmax}(X^{(20)})$\n",
    "としている。"
   ]
  },
  {
   "cell_type": "code",
   "execution_count": 243,
   "metadata": {},
   "outputs": [],
   "source": [
    "def back_propagation_cnn(images, one_hot_labels, kernels, weights_1_2, epoch):\n",
    "    for _ in range(epoch):    \n",
    "        for image, one_hot_label in zip(images, one_hot_labels):\n",
    "            # 順伝播\n",
    "            ## im2colによる変換\n",
    "            col_from_image = im2col(image, F_h=kernel_rows, F_w=kernel_cols)\n",
    "            ## 畳み込み演算\n",
    "            cnn_output = np.dot(kernels, col_from_image)\n",
    "            ## flatten\n",
    "            cnn_output_flatten = cnn_output.reshape(-1)\n",
    "            ## 全結合層への入力に変換\n",
    "            fcn_input = tanh(cnn_output_flatten)\n",
    "            ## 全結合層の出力\n",
    "            fcn_output = np.dot(weights_1_2, fcn_input)\n",
    "            ## 出力層の出力\n",
    "            ol_output = softmax(fcn_output)\n",
    "            \n",
    "            # 誤差逆伝播\n",
    "            output_delta = ol_output.reshape(num_labels, 1)-one_hot_label.reshape(num_labels, 1)\n",
    "            ## weights_1_2の更新\n",
    "            weights_1_2 -= alpha * (output_delta @ fcn_input.reshape(1, -1))\n",
    "            \n",
    "            ## kernelsの更新\n",
    "            kernels -= alpha * ((tanh_deriv(cnn_output_flatten).reshape(-1, 1) * (weights_1_2.T @ output_delta)).reshape(num_kernels, -1)) @ col_from_image.T\n",
    "        \n",
    "    return weights_1_2, kernels"
   ]
  },
  {
   "cell_type": "code",
   "execution_count": 244,
   "metadata": {},
   "outputs": [],
   "source": [
    "weights_1_2, kernels = back_propagation_cnn(images=x_train, one_hot_labels=train_one_hot_labels, kernels=kernels, weights_1_2=weights_1_2, epoch=10)"
   ]
  },
  {
   "cell_type": "code",
   "execution_count": 245,
   "metadata": {},
   "outputs": [
    {
     "name": "stdout",
     "output_type": "stream",
     "text": [
      "[[ 0.08583741  0.16724828  0.17759539 ...  0.17603894  0.062585\n",
      "   0.14975771]\n",
      " [ 0.08561066  0.0342123   0.18663416 ...  0.11726033  0.06510679\n",
      "   0.11530162]\n",
      " [-0.00802659  0.02092663  0.02626932 ...  0.14397447  0.22380602\n",
      "   0.08967592]\n",
      " ...\n",
      " [ 0.18334943  0.02193146  0.04488193 ...  0.02303941  0.17015256\n",
      "   0.13843577]\n",
      " [ 0.05298112  0.14503708  0.08422366 ...  0.11698517  0.00865164\n",
      "   0.060528  ]\n",
      " [ 0.00776529  0.10268865  0.16790026 ... -0.02556005  0.00891432\n",
      "   0.15737823]]\n",
      "[[ -3.7411914   -3.59281368  -4.06373619  -2.83246732  -4.00637716\n",
      "   -4.67249112  -2.94506348  -3.84016182  -3.550644  ]\n",
      " [  0.84532005   3.22897332   7.85466959   4.03610655   4.26769537\n",
      "    6.39170617  -1.58854386   1.78082833   7.51795018]\n",
      " [ -0.69628231  -0.2684483   -0.59690376  -0.17160873  -0.12672878\n",
      "   -0.36325533  -0.58716428  -0.79473547  -0.90045056]\n",
      " [  4.54850834   3.50868662  -5.1823603    3.21513507   4.81489121\n",
      "   -0.14174708   5.14776272   7.30248662   3.27188131]\n",
      " [ -2.40689214  -4.20290218  -1.60467491   3.8687688    5.99327123\n",
      "    6.61036009   4.2007416    7.48593609   8.04710778]\n",
      " [  7.3243164    1.80042814   2.33832283  -3.98230882  -6.30797782\n",
      "   -1.45552622  -7.87468365  -4.33514436  -5.24369129]\n",
      " [  0.5740692    1.30677022   2.33429304   1.04071358   2.40320342\n",
      "    2.00896412   0.45734955   0.75437105   1.53631616]\n",
      " [  1.87763113   1.60131691   1.36878127   0.55457508   0.83524915\n",
      "    0.49866893   0.55632947   0.93971764   0.52633059]\n",
      " [-10.24099307  -6.81004891  -4.17651699  -3.89463868  -2.04231693\n",
      "   -1.77249775  -2.83432903   1.26618031  -2.81361253]\n",
      " [  1.91080188   1.98016338   2.07924177   0.54871254   1.24960132\n",
      "    1.94177691   1.57397688   1.55752721   1.9957386 ]\n",
      " [ -3.518745    -2.29679369  -2.67145848  -1.42772138  -0.58535979\n",
      "   -2.46864505  -2.16938937  -1.36740574  -0.89593493]\n",
      " [  2.0542711    0.14955408   0.26859126   3.14590631   3.62459751\n",
      "    1.45291899   3.89665902   3.37503018   2.85463949]\n",
      " [ -2.27271834   0.73986609   1.24535362  -3.69177714  -3.65420287\n",
      "   -6.32614219  -6.4874989   -4.02820969  -4.78474363]\n",
      " [  5.37203409   3.80188746   2.97231856  -1.96534969  -5.63371759\n",
      "   -6.48136116 -10.09829076  -6.04318476  -5.80435833]\n",
      " [ -1.67689309  -1.34759966  -0.87811948  -2.37620256  -2.37353639\n",
      "   -1.48350634  -1.0815063   -2.30065808  -2.76084472]\n",
      " [ -3.94254391  -3.10879602  -2.28243513  -0.15299446  -0.33865627\n",
      "    1.23767844  -1.94877143  -2.07603495  -0.96955992]]\n"
     ]
    }
   ],
   "source": [
    "print(weights_1_2)\n",
    "print(kernels)"
   ]
  },
  {
   "cell_type": "code",
   "execution_count": 246,
   "metadata": {},
   "outputs": [
    {
     "name": "stdout",
     "output_type": "stream",
     "text": [
      "Accuracy: 0.83\n"
     ]
    }
   ],
   "source": [
    "# Accuracyの計算\n",
    "acc = 0\n",
    "for image, label in zip(x_test, y_test):\n",
    "    result = cnn(image=image, kernels=kernels, weights_1_2=weights_1_2)\n",
    "    acc += int(result==label)\n",
    "\n",
    "print(\"Accuracy:\", acc / len(x_test))"
   ]
  },
  {
   "cell_type": "markdown",
   "metadata": {},
   "source": [
    "# 精度向上の仕方を確認"
   ]
  },
  {
   "cell_type": "code",
   "execution_count": 247,
   "metadata": {},
   "outputs": [
    {
     "name": "stdout",
     "output_type": "stream",
     "text": [
      "Accuracy: 0.08\n",
      "Accuracy: 0.59\n",
      "Accuracy: 0.84\n",
      "Accuracy: 0.81\n",
      "Accuracy: 0.86\n",
      "Accuracy: 0.85\n",
      "Accuracy: 0.84\n",
      "Accuracy: 0.89\n",
      "Accuracy: 0.89\n",
      "Accuracy: 0.89\n",
      "Accuracy: 0.89\n",
      "Accuracy: 0.89\n",
      "Accuracy: 0.89\n",
      "Accuracy: 0.89\n",
      "Accuracy: 0.89\n",
      "Accuracy: 0.89\n",
      "Accuracy: 0.89\n",
      "Accuracy: 0.89\n",
      "Accuracy: 0.89\n",
      "Accuracy: 0.89\n",
      "Accuracy: 0.89\n",
      "Accuracy: 0.89\n",
      "Accuracy: 0.89\n",
      "Accuracy: 0.89\n",
      "Accuracy: 0.89\n",
      "Accuracy: 0.89\n",
      "Accuracy: 0.89\n",
      "Accuracy: 0.89\n",
      "Accuracy: 0.89\n",
      "Accuracy: 0.89\n",
      "Accuracy: 0.89\n",
      "Accuracy: 0.89\n",
      "Accuracy: 0.89\n",
      "Accuracy: 0.89\n",
      "Accuracy: 0.89\n",
      "Accuracy: 0.89\n",
      "Accuracy: 0.89\n",
      "Accuracy: 0.89\n",
      "Accuracy: 0.89\n",
      "Accuracy: 0.89\n",
      "Accuracy: 0.89\n",
      "Accuracy: 0.89\n",
      "Accuracy: 0.89\n",
      "Accuracy: 0.89\n",
      "Accuracy: 0.89\n",
      "Accuracy: 0.89\n",
      "Accuracy: 0.89\n",
      "Accuracy: 0.89\n",
      "Accuracy: 0.89\n",
      "Accuracy: 0.89\n",
      "Accuracy: 0.89\n",
      "Accuracy: 0.89\n",
      "Accuracy: 0.89\n",
      "Accuracy: 0.89\n",
      "Accuracy: 0.89\n",
      "Accuracy: 0.89\n",
      "Accuracy: 0.89\n",
      "Accuracy: 0.89\n",
      "Accuracy: 0.89\n",
      "Accuracy: 0.89\n",
      "Accuracy: 0.89\n",
      "Accuracy: 0.89\n",
      "Accuracy: 0.89\n",
      "Accuracy: 0.89\n",
      "Accuracy: 0.89\n",
      "Accuracy: 0.89\n",
      "Accuracy: 0.89\n",
      "Accuracy: 0.89\n",
      "Accuracy: 0.89\n",
      "Accuracy: 0.89\n",
      "Accuracy: 0.89\n",
      "Accuracy: 0.89\n",
      "Accuracy: 0.89\n",
      "Accuracy: 0.89\n",
      "Accuracy: 0.89\n",
      "Accuracy: 0.89\n",
      "Accuracy: 0.89\n",
      "Accuracy: 0.89\n",
      "Accuracy: 0.89\n",
      "Accuracy: 0.89\n",
      "Accuracy: 0.89\n",
      "Accuracy: 0.89\n",
      "Accuracy: 0.89\n",
      "Accuracy: 0.88\n",
      "Accuracy: 0.88\n",
      "Accuracy: 0.88\n",
      "Accuracy: 0.88\n",
      "Accuracy: 0.88\n",
      "Accuracy: 0.88\n",
      "Accuracy: 0.88\n",
      "Accuracy: 0.88\n",
      "Accuracy: 0.88\n",
      "Accuracy: 0.88\n",
      "Accuracy: 0.88\n",
      "Accuracy: 0.88\n",
      "Accuracy: 0.88\n",
      "Accuracy: 0.88\n",
      "Accuracy: 0.88\n",
      "Accuracy: 0.88\n",
      "Accuracy: 0.88\n"
     ]
    }
   ],
   "source": [
    "# パラメータの初期値\n",
    "kernels = 0.02 * np.random.random((num_kernels, kernel_rows*kernel_cols)) - 0.01\n",
    "weights_1_2 = 0.2 * np.random.random((num_labels, hidden_size)) - 0.01\n",
    "\n",
    "for epoch_num in range(100):\n",
    "    weights_1_2, kernels = back_propagation_cnn(images=x_train, one_hot_labels=train_one_hot_labels, kernels=kernels, weights_1_2=weights_1_2, epoch=epoch_num)\n",
    "    \n",
    "    # Accuracyの計算\n",
    "    acc = 0\n",
    "    for image, label in zip(x_test, y_test):\n",
    "        result = cnn(image=image, kernels=kernels, weights_1_2=weights_1_2)\n",
    "        acc += int(result==label)\n",
    "\n",
    "    print(\"Accuracy:\", acc / len(x_test))"
   ]
  }
 ],
 "metadata": {
  "kernelspec": {
   "display_name": "grokking_deep_learning",
   "language": "python",
   "name": "python3"
  },
  "language_info": {
   "codemirror_mode": {
    "name": "ipython",
    "version": 3
   },
   "file_extension": ".py",
   "mimetype": "text/x-python",
   "name": "python",
   "nbconvert_exporter": "python",
   "pygments_lexer": "ipython3",
   "version": "3.9.18"
  }
 },
 "nbformat": 4,
 "nbformat_minor": 2
}
