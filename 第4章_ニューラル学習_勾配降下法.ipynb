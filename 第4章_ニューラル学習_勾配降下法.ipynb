{
 "cells": [
  {
   "cell_type": "markdown",
   "id": "f99fda2b",
   "metadata": {},
   "source": [
    "# 予測、比較、学習\n",
    "スクリプトなし"
   ]
  },
  {
   "cell_type": "markdown",
   "id": "1be79419",
   "metadata": {},
   "source": [
    "# 比較\n",
    "スクリプトなし"
   ]
  },
  {
   "cell_type": "markdown",
   "id": "e3ae41e8",
   "metadata": {},
   "source": [
    "# 学習\n",
    "スクリプトなし"
   ]
  },
  {
   "cell_type": "markdown",
   "id": "8383dd3a",
   "metadata": {},
   "source": [
    "# 比較：ネットワークの予測は正確か"
   ]
  },
  {
   "cell_type": "code",
   "execution_count": 12,
   "id": "884ace2e",
   "metadata": {
    "ExecuteTime": {
     "end_time": "2023-10-01T21:31:21.944000+09:00",
     "start_time": "2023-10-01T12:31:21.934Z"
    }
   },
   "outputs": [
    {
     "name": "stdout",
     "output_type": "stream",
     "text": [
      "0.30250000000000005\n"
     ]
    }
   ],
   "source": [
    "# 重み\n",
    "knob_weight = 0.5\n",
    "\n",
    "# 入力データ\n",
    "input = 0.5\n",
    "\n",
    "# 正解ラベル\n",
    "goal_pred = 0.8\n",
    "\n",
    "# 予測結果\n",
    "pred = input*knob_weight\n",
    "\n",
    "# MSE\n",
    "#注意：errorは予約語なので、使えない\n",
    "err = (pred-goal_pred)^2\n",
    "\n",
    "\n",
    "println(err)"
   ]
  },
  {
   "cell_type": "markdown",
   "id": "6914acf0",
   "metadata": {},
   "source": [
    "# 誤差を測定するのはなぜか\n",
    "スクリプトなし"
   ]
  },
  {
   "cell_type": "markdown",
   "id": "939e6a57",
   "metadata": {},
   "source": [
    "# 最も基本的なニューラルネットワーク"
   ]
  },
  {
   "cell_type": "code",
   "execution_count": 1,
   "id": "d5630e62",
   "metadata": {
    "ExecuteTime": {
     "end_time": "2023-10-02T17:20:19.122000+09:00",
     "start_time": "2023-10-02T08:20:14.294Z"
    }
   },
   "outputs": [
    {
     "name": "stdout",
     "output_type": "stream",
     "text": [
      "0.022499999999999975\n"
     ]
    }
   ],
   "source": [
    "\"\"\"順伝播の関数\n",
    "\n",
    "1個の入力に対し、1個の値を出力する順伝播の関数  \n",
    "\n",
    "Args:  \n",
    "    input(Float64): 入力値  \n",
    "    weight(Float64): 重み  \n",
    "\n",
    "Returns:  \n",
    "    Float64: 順伝播の出力  \n",
    "\n",
    "Raises:  \n",
    "    特になし  \n",
    "\n",
    "Examples:  \n",
    "    neural_network(input=0.85, weight=0.1)  \n",
    "        0.085  \n",
    "\n",
    "Note:  \n",
    "    特になし  \n",
    "\"\"\"\n",
    "function neural_network(;input::Float64, weight::Float64)::Float64\n",
    "    return input*weight\n",
    "end\n",
    "\n",
    "\n",
    "\n",
    "# 特徴量\n",
    "number_of_toes = [8.5]\n",
    "\n",
    "# 重み\n",
    "weight = 0.1\n",
    "\n",
    "# 正解ラベル\n",
    "win_or_lose_binary = [1]\n",
    "\n",
    "# 入力値\n",
    "input = number_of_toes[1]\n",
    "\n",
    "# 正解ラベル\n",
    "truth = win_or_lose_binary[1]\n",
    "\n",
    "pred = neural_network(input=input, weight=weight)\n",
    "\n",
    "err = (pred-truth)^2\n",
    "\n",
    "println(err)"
   ]
  },
  {
   "cell_type": "code",
   "execution_count": 61,
   "id": "281055b8",
   "metadata": {
    "ExecuteTime": {
     "end_time": "2023-10-02T13:18:23.530000+09:00",
     "start_time": "2023-10-02T04:18:23.494Z"
    }
   },
   "outputs": [
    {
     "name": "stdout",
     "output_type": "stream",
     "text": [
      "更新前の重み:0.1\n",
      "元々の誤差0.8500000000000001\n",
      "後の誤差：e_up0.004224999999999993\n",
      "更新後の重み:0.11\n"
     ]
    }
   ],
   "source": [
    "#重み\n",
    "weight = 0.1\n",
    "println(\"更新前の重み:\", weight)\n",
    "\n",
    "# 重みをズラす際のずらし幅\n",
    "lr = 0.01\n",
    "\n",
    "# 元々の誤差\n",
    "println(\"元々の誤差\", neural_network(input, weight))\n",
    "\n",
    "# weightを大きくした場合の予測値\n",
    "p_up =neural_network(input, weight+lr)\n",
    "e_up = (p_up-truth)^2\n",
    "\n",
    "# weightを小さくした場合の予測値\n",
    "p_down =neural_network(input, weight-lr)\n",
    "e_down = (p_down-truth)^2\n",
    "\n",
    "# e_upと_e_doenの小さいほうの重みを出力する\n",
    "if e_up >= e_down\n",
    "    println(\"後の誤差：e_down\", e_down)\n",
    "    weight -= lr\n",
    "else # つまり　e_up < e_downのとき\n",
    "    println(\"後の誤差：e_up\", e_up)\n",
    "    weight += lr\n",
    "end\n",
    "println(\"更新後の重み:\", weight)"
   ]
  },
  {
   "cell_type": "markdown",
   "id": "3437568d",
   "metadata": {},
   "source": [
    "# ホット&コールド学習"
   ]
  },
  {
   "cell_type": "code",
   "execution_count": 80,
   "id": "1c3a81c4",
   "metadata": {
    "ExecuteTime": {
     "end_time": "2023-10-02T13:27:55.213000+09:00",
     "start_time": "2023-10-02T04:27:55.198Z"
    }
   },
   "outputs": [
    {
     "data": {
      "text/plain": [
       "hot_cold_method"
      ]
     },
     "execution_count": 80,
     "metadata": {},
     "output_type": "execute_result"
    }
   ],
   "source": [
    "\"\"\"\n",
    "1個の入力に対して、1個の出力を出すニューラルネットワークについて、\n",
    "予測値と正解ラベル間のMSEを減少させるような重みを出力する関数\n",
    "\n",
    "Args:  \n",
    "    input(Float64): 入力値  \n",
    "    weight(Float64): 重み  \n",
    "    goal_pred(Float64): 正解ラベル\n",
    "    step_amout(Float64): ステップ幅\n",
    "    iteration(Int64): イテレーションの回数\n",
    "\n",
    "Returns:  \n",
    "    Float64: 更新後の重み\n",
    "\n",
    "Raises:  \n",
    "    特になし  \n",
    "\n",
    "Examples:  \n",
    "    hot_cold_method(input=0.5, weight=0.5, goal_pred=0.8, step_amount=0.001)\n",
    "\n",
    "Note:  \n",
    "    特になし  \n",
    "\"\"\"\n",
    "function hot_cold_method(;input::Float64, weight::Float64, goal_pred::Float64, step_amount::Float64, iteration::Int64)::Float64\n",
    "    for i = 1:iteration\n",
    "        # weightを大きくした場合の予測値\n",
    "        p_up =neural_network(input, weight+step_amount)\n",
    "        e_up = (p_up-goal_pred)^2\n",
    "\n",
    "        # weightを小さくした場合の予測値\n",
    "        p_down =neural_network(input, weight-step_amount)\n",
    "        e_down = (p_down-goal_pred)^2\n",
    "\n",
    "        # e_upと_e_doenの小さいほうの重みを出力する\n",
    "        if e_up >= e_down\n",
    "            weight -= step_amount\n",
    "        end\n",
    "        \n",
    "        if e_up < e_down\n",
    "            weight += step_amount\n",
    "        end\n",
    "    end\n",
    "    \n",
    "    \n",
    "    return weight\n",
    "end"
   ]
  },
  {
   "cell_type": "code",
   "execution_count": 81,
   "id": "4fbc08e5",
   "metadata": {
    "ExecuteTime": {
     "end_time": "2023-10-02T13:27:56.334000+09:00",
     "start_time": "2023-10-02T04:27:56.304Z"
    }
   },
   "outputs": [
    {
     "data": {
      "text/plain": [
       "1.5999999999999344"
      ]
     },
     "execution_count": 81,
     "metadata": {},
     "output_type": "execute_result"
    }
   ],
   "source": [
    "#パッケージ\n",
    "using Printf\n",
    "\n",
    "# 重みの初期値\n",
    "weight = 0.5\n",
    "# 入力値\n",
    "input = 0.5\n",
    "# 正解ラベル\n",
    "goal_pred = 0.8\n",
    "# イテレーションごとの重みのステップ幅\n",
    "step_amount = 0.001\n",
    "\n",
    "# イテレーションの回数\n",
    "iter = 2000\n",
    "\n",
    "new_weight = hot_cold_method(input=input, weight=weight, goal_pred=goal_pred, step_amount=step_amount, iteration=iter)"
   ]
  },
  {
   "cell_type": "code",
   "execution_count": 82,
   "id": "34a12cd5",
   "metadata": {
    "ExecuteTime": {
     "end_time": "2023-10-02T13:27:57.456000+09:00",
     "start_time": "2023-10-02T04:27:57.452Z"
    }
   },
   "outputs": [
    {
     "data": {
      "text/plain": [
       "0.7999999999999672"
      ]
     },
     "execution_count": 82,
     "metadata": {},
     "output_type": "execute_result"
    }
   ],
   "source": [
    "neural_network(input, new_weight)"
   ]
  },
  {
   "cell_type": "markdown",
   "id": "735fb58f",
   "metadata": {},
   "source": [
    "# ホット&コールド学習の特徴\n",
    "スクリプトはなし"
   ]
  },
  {
   "cell_type": "markdown",
   "id": "371ec167",
   "metadata": {},
   "source": [
    "# 誤差から方向と量を割り出す"
   ]
  },
  {
   "cell_type": "code",
   "execution_count": 2,
   "id": "bf77e0e1",
   "metadata": {
    "ExecuteTime": {
     "end_time": "2023-10-03T14:32:53.801000+09:00",
     "start_time": "2023-10-03T05:32:53.547Z"
    }
   },
   "outputs": [
    {
     "name": "stdout",
     "output_type": "stream",
     "text": [
      "推定されたパラメータ:1.5965116668671726\n",
      "パラメータの真値:1.6\n"
     ]
    }
   ],
   "source": [
    "# パラメータの初期値\n",
    "weight = 0.5\n",
    "\n",
    "# 目的変数の正解\n",
    "goal_pred = 0.8\n",
    "\n",
    "# 特徴量\n",
    "input = 0.5\n",
    "\n",
    "for iteration = 1:20\n",
    "    pred = input*weight\n",
    "    err = (pred-goal_pred)^2\n",
    "    direction_and_amount = (pred-goal_pred)*input # 勾配降下法の更新幅\n",
    "    weight -= direction_and_amount \n",
    "end\n",
    "println(\"推定されたパラメータ:\", weight)\n",
    "println(\"パラメータの真値:\", goal_pred/input)"
   ]
  },
  {
   "cell_type": "markdown",
   "id": "f2fb38a0",
   "metadata": {},
   "source": [
    "# 勾配降下法の1回のイテレーション"
   ]
  },
  {
   "cell_type": "code",
   "execution_count": 21,
   "id": "21ecff39",
   "metadata": {
    "ExecuteTime": {
     "end_time": "2023-10-03T16:53:02.328000+09:00",
     "start_time": "2023-10-03T07:53:02.312Z"
    }
   },
   "outputs": [
    {
     "name": "stdout",
     "output_type": "stream",
     "text": [
      "パラメータの真値:0.11764705882352941\n"
     ]
    }
   ],
   "source": [
    "# 真のニューラルネットワーク\n",
    "# 特徴量\n",
    "number_of_toes = [8.5]\n",
    "\n",
    "# 目的変数\n",
    "win_or_lose_binary = [1.0]\n",
    "\n",
    "# パラメータの真値\n",
    "println(\"パラメータの真値:\", win_or_lose_binary[1]/number_of_toes[1])"
   ]
  },
  {
   "cell_type": "code",
   "execution_count": 6,
   "id": "446e082d",
   "metadata": {
    "ExecuteTime": {
     "end_time": "2023-10-03T16:21:07.136000+09:00",
     "start_time": "2023-10-03T07:21:07.130Z"
    }
   },
   "outputs": [
    {
     "name": "stdout",
     "output_type": "stream",
     "text": [
      "更新後のパラメータ:0.11275\n"
     ]
    }
   ],
   "source": [
    "# パラメータの初期値\n",
    "weight = 0.1\n",
    "\n",
    "# 1回だけ重みを更新する\n",
    "input = number_of_toes[1]\n",
    "truth = win_or_lose_binary[1]\n",
    "\n",
    "## 現時点での予測値\n",
    "pred = input*weight\n",
    "\n",
    "## 更新の準備\n",
    "delta = pred-truth\n",
    "weight_delta = delta*input\n",
    "\n",
    "## 更新\n",
    "alpha = 0.01\n",
    "weight -= weight_delta*alpha\n",
    "\n",
    "# 更新後のパラメータ\n",
    "println(\"更新後のパラメータ:\", weight)"
   ]
  },
  {
   "cell_type": "markdown",
   "id": "df157b1d",
   "metadata": {},
   "source": [
    "# 学習とは誤差を小さくすること"
   ]
  },
  {
   "cell_type": "code",
   "execution_count": 8,
   "id": "337f4ec6",
   "metadata": {
    "ExecuteTime": {
     "end_time": "2023-10-03T16:22:51.936000+09:00",
     "start_time": "2023-10-03T07:22:51.912Z"
    }
   },
   "outputs": [
    {
     "name": "stdout",
     "output_type": "stream",
     "text": [
      "更新後のパラメータ:0.11754241242578124\n"
     ]
    }
   ],
   "source": [
    "# パラメータの初期値\n",
    "weight = 0.1\n",
    "\n",
    "# 4回だけ重みを更新する\n",
    "input = number_of_toes[1]\n",
    "truth = win_or_lose_binary[1]\n",
    "\n",
    "for i = 1:4\n",
    "    ## 現時点での予測値\n",
    "    pred = input*weight\n",
    "\n",
    "    ## 更新の準備\n",
    "    delta = pred-truth\n",
    "    weight_delta = delta*input\n",
    "\n",
    "    ## 更新\n",
    "    alpha = 0.01\n",
    "    weight -= weight_delta*alpha\n",
    "end\n",
    "\n",
    "# 更新後のパラメータ\n",
    "println(\"更新後のパラメータ:\", weight)"
   ]
  },
  {
   "cell_type": "markdown",
   "id": "27ea5ab8",
   "metadata": {},
   "source": [
    "# 学習ステップ"
   ]
  },
  {
   "cell_type": "code",
   "execution_count": 10,
   "id": "1783016b",
   "metadata": {
    "ExecuteTime": {
     "end_time": "2023-10-03T16:29:40.880000+09:00",
     "start_time": "2023-10-03T07:29:40.710Z"
    }
   },
   "outputs": [
    {
     "name": "stdout",
     "output_type": "stream",
     "text": [
      "----\n",
      "weight:0.085\n",
      "error:1.0\n",
      "delta:-1.0\n",
      "weight_delta:-8.5\n",
      "----\n",
      "----\n",
      "weight:0.1085875\n",
      "error:0.07700624999999998\n",
      "delta:-0.27749999999999997\n",
      "weight_delta:-2.3587499999999997\n",
      "----\n",
      "----\n",
      "weight:0.11513303125\n",
      "error:0.005929962539062491\n",
      "delta:-0.07700624999999994\n",
      "weight_delta:-0.6545531249999995\n",
      "----\n",
      "----\n",
      "weight:0.116949416171875\n",
      "error:0.00045664417777367884\n",
      "delta:-0.021369234374999935\n",
      "weight_delta:-0.18163849218749945\n",
      "----\n",
      "パラメータの真値:0.11764705882352941\n",
      "更新後のパラメータ:0.116949416171875\n"
     ]
    }
   ],
   "source": [
    "# パラメータの初期値\n",
    "weight = 0.0\n",
    "\n",
    "# 4回だけ重みを更新する\n",
    "input = number_of_toes[1]\n",
    "truth = win_or_lose_binary[1]\n",
    "\n",
    "for i = 1:4    \n",
    "    ## 現時点での予測値\n",
    "    pred = input*weight\n",
    "\n",
    "    ## 更新の準備\n",
    "    delta = pred-truth\n",
    "    weight_delta = delta*input\n",
    "        \n",
    "    ## 更新\n",
    "    alpha = 0.01\n",
    "    weight -= weight_delta*alpha\n",
    "    \n",
    "    # 表示\n",
    "    println(\"----\")\n",
    "    println(\"weight:\", weight)\n",
    "    println(\"error:\", delta^2)\n",
    "    println(\"delta:\", delta)\n",
    "    println(\"weight_delta:\", weight_delta)\n",
    "    println(\"----\")\n",
    "end\n",
    "\n",
    "\n",
    "println(\"パラメータの真値:\", win_or_lose_binary[1]/number_of_toes[1])\n",
    "println(\"更新後のパラメータ:\", weight)"
   ]
  },
  {
   "cell_type": "markdown",
   "id": "3a9a9577",
   "metadata": {},
   "source": [
    "# どのような仕組みになっているか\n",
    "スクリプトなし"
   ]
  },
  {
   "cell_type": "markdown",
   "id": "5adccb5b",
   "metadata": {},
   "source": [
    "# 一つの考えにこだわる\n",
    "スクリプトなし"
   ]
  },
  {
   "cell_type": "markdown",
   "id": "259f581a",
   "metadata": {},
   "source": [
    "# 棒が突き出た箱\n",
    "スクリプトなし"
   ]
  },
  {
   "cell_type": "markdown",
   "id": "554ec7a9",
   "metadata": {},
   "source": [
    "# 微分係数：テイク２\n",
    "スクリプトなし"
   ]
  },
  {
   "cell_type": "markdown",
   "id": "ccab09b5",
   "metadata": {},
   "source": [
    "# 知っていないと困ること\n",
    "スクリプトなし"
   ]
  },
  {
   "cell_type": "markdown",
   "id": "a7e71011",
   "metadata": {},
   "source": [
    "# 知っていなくてもそれほど困らないこと\n",
    "スクリプトなし"
   ]
  },
  {
   "cell_type": "markdown",
   "id": "40efccbb",
   "metadata": {},
   "source": [
    "# 微分係数を使ってどのように学習するか\n",
    "スクリプトなし"
   ]
  },
  {
   "cell_type": "markdown",
   "id": "ad8a48a1",
   "metadata": {},
   "source": [
    "# ここまでのまとめ\n",
    "スクリプトなし"
   ]
  },
  {
   "cell_type": "markdown",
   "id": "24e8e299",
   "metadata": {},
   "source": [
    "# 勾配降下法の分解"
   ]
  },
  {
   "cell_type": "code",
   "execution_count": 11,
   "id": "1d00bbaf",
   "metadata": {
    "ExecuteTime": {
     "end_time": "2023-10-03T16:41:45.051000+09:00",
     "start_time": "2023-10-03T07:41:44.781Z"
    }
   },
   "outputs": [
    {
     "name": "stdout",
     "output_type": "stream",
     "text": [
      "----\n",
      "weight:0.085\n",
      "error:1.0\n",
      "delta:-1.0\n",
      "weight_delta:-8.5\n",
      "----\n",
      "----\n",
      "weight:0.1085875\n",
      "error:0.07700624999999998\n",
      "delta:-0.27749999999999997\n",
      "weight_delta:-2.3587499999999997\n",
      "----\n",
      "----\n",
      "weight:0.11513303125\n",
      "error:0.005929962539062491\n",
      "delta:-0.07700624999999994\n",
      "weight_delta:-0.6545531249999995\n",
      "----\n",
      "----\n",
      "weight:0.116949416171875\n",
      "error:0.00045664417777367884\n",
      "delta:-0.021369234374999935\n",
      "weight_delta:-0.18163849218749945\n",
      "----\n",
      "----\n",
      "weight:0.11745346298769531\n",
      "error:3.51644557146849e-5\n",
      "delta:-0.005929962539062528\n",
      "weight_delta:-0.050404681582031485\n",
      "----\n",
      "----\n",
      "weight:0.11759333597908544\n",
      "error:2.7078828678790035e-6\n",
      "delta:-0.0016455646045898664\n",
      "weight_delta:-0.013987299139013865\n",
      "----\n",
      "----\n",
      "weight:0.11763215073419621\n",
      "error:2.0852390509461005e-7\n",
      "delta:-0.0004566441777736907\n",
      "weight_delta:-0.003881475511076371\n",
      "----\n",
      "----\n",
      "weight:0.11764292182873945\n",
      "error:1.6057643966700607e-8\n",
      "delta:-0.00012671875933223387\n",
      "weight_delta:-0.0010771094543239879\n",
      "----\n",
      "----\n",
      "weight:0.1176459108074752\n",
      "error:1.236538945712515e-9\n",
      "delta:-3.5164455714720155e-5\n",
      "weight_delta:-0.0002988978735751213\n",
      "----\n",
      "----\n",
      "weight:0.11764674024907437\n",
      "error:9.522122718677389e-11\n",
      "delta:-9.75813646075796e-6\n",
      "weight_delta:-8.294415991644266e-5\n",
      "----\n",
      "----\n",
      "weight:0.11764697041911813\n",
      "error:7.332629625860603e-12\n",
      "delta:-2.7078828678250844e-6\n",
      "weight_delta:-2.3017004376513217e-5\n",
      "----\n",
      "----\n",
      "weight:0.11764703429130528\n",
      "error:5.646583102352994e-13\n",
      "delta:-7.51437495893903e-7\n",
      "weight_delta:-6.387218715098175e-6\n",
      "----\n",
      "----\n",
      "weight:0.11764705201583722\n",
      "error:4.3482219016100247e-14\n",
      "delta:-2.085239051430321e-7\n",
      "weight_delta:-1.7724531937157728e-6\n",
      "----\n",
      "----\n",
      "weight:0.11764705693439483\n",
      "error:3.3484026186968997e-15\n",
      "delta:-5.786538359586757e-8\n",
      "weight_delta:-4.918557605648743e-7\n",
      "----\n",
      "----\n",
      "weight:0.11764705829929456\n",
      "error:2.578479305822334e-16\n",
      "delta:-1.605764399226217e-8\n",
      "weight_delta:-1.3648997393422846e-7\n",
      "----\n",
      "----\n",
      "weight:0.11764705867805424\n",
      "error:1.9855902478964915e-17\n",
      "delta:-4.4559962386614416e-9\n",
      "weight_delta:-3.7875968028622253e-8\n",
      "----\n",
      "----\n",
      "weight:0.11764705878316005\n",
      "error:1.5290286547939916e-18\n",
      "delta:-1.2365389823187911e-9\n",
      "weight_delta:-1.0510581349709724e-8\n",
      "----\n",
      "----\n",
      "weight:0.11764705881232691\n",
      "error:1.1774480418255062e-19\n",
      "delta:-3.431396278230636e-10\n",
      "weight_delta:-2.9166868364960408e-9\n",
      "----\n",
      "----\n",
      "weight:0.11764705882042072\n",
      "error:9.067091271499614e-21\n",
      "delta:-9.522127530914304e-11\n",
      "weight_delta:-8.093808401277158e-10\n",
      "----\n",
      "----\n",
      "weight:0.11764705882266674\n",
      "error:6.982205410002335e-22\n",
      "delta:-2.6423863097591038e-11\n",
      "weight_delta:-2.2460283632952383e-10\n",
      "----\n",
      "パラメータの真値:0.11764705882352941\n",
      "更新後のパラメータ:0.11764705882266674\n"
     ]
    }
   ],
   "source": [
    "# パラメータの初期値\n",
    "weight = 0.0\n",
    "\n",
    "# 20回だけ重みを更新する\n",
    "input = number_of_toes[1]\n",
    "truth = win_or_lose_binary[1]\n",
    "\n",
    "for i = 1:20   \n",
    "    ## 現時点での予測値\n",
    "    pred = input*weight\n",
    "\n",
    "    ## 更新の準備\n",
    "    delta = pred-truth\n",
    "    weight_delta = delta*input\n",
    "        \n",
    "    ## 更新\n",
    "    alpha = 0.01\n",
    "    weight -= weight_delta*alpha\n",
    "    \n",
    "    # 表示\n",
    "    println(\"----\")\n",
    "    println(\"weight:\", weight)\n",
    "    println(\"error:\", delta^2)\n",
    "    println(\"delta:\", delta)\n",
    "    println(\"weight_delta:\", weight_delta)\n",
    "    println(\"----\")\n",
    "end\n",
    "\n",
    "\n",
    "println(\"パラメータの真値:\", win_or_lose_binary[1]/number_of_toes[1])\n",
    "println(\"更新後のパラメータ:\", weight)"
   ]
  },
  {
   "cell_type": "code",
   "execution_count": 13,
   "id": "102173bf",
   "metadata": {
    "ExecuteTime": {
     "end_time": "2023-10-03T16:43:40.611000+09:00",
     "start_time": "2023-10-03T07:43:40.518Z"
    }
   },
   "outputs": [
    {
     "name": "stdout",
     "output_type": "stream",
     "text": [
      "----\n",
      "weight:-704.0\n",
      "error:7056.0\n",
      "delta:84.0\n",
      "weight_delta:714.0\n",
      "----\n",
      "----\n",
      "weight:50168.5\n",
      "error:3.5820225e7\n",
      "delta:-5985.0\n",
      "weight_delta:-50872.5\n",
      "----\n",
      "----\n",
      "weight:-3.574497125e6\n",
      "error:1.818436109765625e11\n",
      "delta:426431.25\n",
      "weight_delta:3.624665625e6\n",
      "----\n",
      "----\n",
      "weight:2.5468292865625e8\n",
      "error:9.231404563482056e14\n",
      "delta:-3.03832265625e7\n",
      "weight_delta:-2.5825742578125e8\n",
      "----\n",
      "----\n",
      "weight:-1.8146158658257812e10\n",
      "error:4.686380222930187e18\n",
      "delta:2.164804892578125e9\n",
      "weight_delta:1.8400841586914062e10\n",
      "----\n",
      "----\n",
      "weight:1.2929138044093691e12\n",
      "error:2.3790702100469028e22\n",
      "delta:-1.542423485961914e11\n",
      "weight_delta:-1.311059963067627e12\n",
      "----\n",
      "----\n",
      "weight:-9.212010856415903e13\n",
      "error:1.2077498613191229e26\n",
      "delta:1.0989767337478637e13\n",
      "weight_delta:9.34130223685684e13\n",
      "----\n",
      "----\n",
      "weight:6.563557735196339e15\n",
      "error:6.1312176553528576e29\n",
      "delta:-7.830209227953528e14\n",
      "weight_delta:-6.655677843760498e15\n",
      "----\n",
      "----\n",
      "weight:-4.6765348863273914e17\n",
      "error:3.112550962850224e33\n",
      "delta:5.579024074916888e16\n",
      "weight_delta:4.742170463679355e17\n",
      "----\n",
      "----\n",
      "weight:3.3320311065082663e19\n",
      "error:1.5801059497344338e37\n",
      "delta:-3.9750546533782825e18\n",
      "weight_delta:-3.37879645537154e19\n",
      "----\n",
      "----\n",
      "weight:-2.3740721633871397e21\n",
      "error:8.021506610448712e40\n",
      "delta:2.8322264405320263e20\n",
      "weight_delta:2.4073924744522225e21\n",
      "----\n",
      "----\n",
      "weight:1.6915264164133368e23\n",
      "error:4.072167965210604e44\n",
      "delta:-2.0179613388790687e22\n",
      "weight_delta:-1.7152671380472082e23\n",
      "----\n",
      "----\n",
      "weight:-1.2052125716945027e25\n",
      "error:2.0672615185889452e48\n",
      "delta:1.4377974539513364e24\n",
      "weight_delta:1.222127835858636e25\n",
      "----\n",
      "----\n",
      "weight:8.587139573323332e26\n",
      "error:1.0494582302961694e52\n",
      "delta:-1.0244306859403272e26\n",
      "weight_delta:-8.707660830492782e26\n",
      "----\n",
      "----\n",
      "weight:-6.118336945992874e28\n",
      "error:5.327640297237899e55\n",
      "delta:7.299068637324832e27\n",
      "weight_delta:6.204208341726108e28\n",
      "----\n",
      "----\n",
      "weight:4.359315074019923e30\n",
      "error:2.7046098946446766e59\n",
      "delta:-5.200586404093943e29\n",
      "weight_delta:-4.4204984434798517e30\n",
      "----\n",
      "----\n",
      "weight:-3.106011990239195e32\n",
      "error:1.373012116828212e63\n",
      "delta:3.7054178129169345e31\n",
      "weight_delta:3.1496051409793942e32\n",
      "----\n",
      "----\n",
      "weight:2.2130335430454265e34\n",
      "error:6.970181824335717e66\n",
      "delta:-2.6401101917033155e33\n",
      "weight_delta:-2.2440936629478183e34\n",
      "----\n",
      "----\n",
      "weight:-1.5767863994198663e36\n",
      "error:3.53845636676043e70\n",
      "delta:1.8810785115886125e35\n",
      "weight_delta:1.5989167348503206e36\n",
      "----\n",
      "----\n",
      "weight:1.1234603095866547e38\n",
      "error:1.796319489938224e74\n",
      "delta:-1.3402684395068862e37\n",
      "weight_delta:-1.1392281735808533e38\n",
      "----\n",
      "パラメータの真値:0.11764705882352941\n",
      "更新後のパラメータ:1.1234603095866547e38\n"
     ]
    }
   ],
   "source": [
    "# パラメータの初期値\n",
    "weight = 10 # 初期値を遠くする\n",
    "\n",
    "# 20回だけ重みを更新する\n",
    "input = number_of_toes[1]\n",
    "truth = win_or_lose_binary[1]\n",
    "\n",
    "for i = 1:20   \n",
    "    ## 現時点での予測値\n",
    "    pred = input*weight\n",
    "\n",
    "    ## 更新の準備\n",
    "    delta = pred-truth\n",
    "    weight_delta = delta*input\n",
    "        \n",
    "    ## 更新\n",
    "    alpha = 0.01\n",
    "    weight -= weight_delta # alphaで移動の大きさを調整しない\n",
    "    \n",
    "    # 表示\n",
    "    println(\"----\")\n",
    "    println(\"weight:\", weight)\n",
    "    println(\"error:\", delta^2)\n",
    "    println(\"delta:\", delta)\n",
    "    println(\"weight_delta:\", weight_delta)\n",
    "    println(\"----\")\n",
    "end\n",
    "\n",
    "\n",
    "println(\"パラメータの真値:\", win_or_lose_binary[1]/number_of_toes[1])\n",
    "println(\"更新後のパラメータ:\", weight)"
   ]
  },
  {
   "cell_type": "markdown",
   "id": "5dd7bd70",
   "metadata": {},
   "source": [
    "↑の結果に対してのコメント\n",
    "errorは前半大きいまま。真値の前後を行ったり来たりしている。ただし、20回更新しても真値にあまり近づいていない。"
   ]
  },
  {
   "cell_type": "markdown",
   "id": "334bd97d",
   "metadata": {},
   "source": [
    "# 過度の補正を可視化する\n",
    "スクリプトなし"
   ]
  },
  {
   "cell_type": "markdown",
   "id": "cd3a5c2b",
   "metadata": {},
   "source": [
    "# ダイバージェンス\n",
    "スクリプトなし"
   ]
  },
  {
   "cell_type": "markdown",
   "id": "874fa9aa",
   "metadata": {},
   "source": [
    "# アルファ\n",
    "スクリプトなし"
   ]
  },
  {
   "cell_type": "markdown",
   "id": "a8b934e0",
   "metadata": {},
   "source": [
    "# アルファのコーディング"
   ]
  },
  {
   "cell_type": "code",
   "execution_count": 19,
   "id": "907aa927",
   "metadata": {
    "ExecuteTime": {
     "end_time": "2023-10-03T16:52:06.254000+09:00",
     "start_time": "2023-10-03T07:52:06.246Z"
    }
   },
   "outputs": [
    {
     "data": {
      "text/plain": [
       "gradient_descent (generic function with 2 methods)"
      ]
     },
     "execution_count": 19,
     "metadata": {},
     "output_type": "execute_result"
    }
   ],
   "source": [
    "function gradient_descent(;alpha::Float64, weight::Float64, input::Float64, truth::Float64)\n",
    "    for i = 1:20   \n",
    "        ## 現時点での予測値\n",
    "        pred = input*weight\n",
    "\n",
    "        ## 更新の準備\n",
    "        delta = pred-truth\n",
    "        weight_delta = delta*input\n",
    "\n",
    "        ## 更新\n",
    "        weight -= weight_delta*alpha\n",
    "\n",
    "        # 表示\n",
    "        println(\"----\")\n",
    "        println(\"weight:\", weight)\n",
    "        println(\"error:\", delta^2)\n",
    "        println(\"delta:\", delta)\n",
    "        println(\"weight_delta:\", weight_delta)\n",
    "        println(\"----\")\n",
    "    end\n",
    "end"
   ]
  },
  {
   "cell_type": "code",
   "execution_count": 23,
   "id": "9c227309",
   "metadata": {
    "ExecuteTime": {
     "end_time": "2023-10-03T16:53:34.044000+09:00",
     "start_time": "2023-10-03T07:53:33.654Z"
    }
   },
   "outputs": [
    {
     "data": {
      "text/plain": [
       "1.0"
      ]
     },
     "execution_count": 23,
     "metadata": {},
     "output_type": "execute_result"
    }
   ],
   "source": [
    "# パラメータの初期値\n",
    "weight = 0.0\n",
    "\n",
    "# 20回だけ重みを更新する\n",
    "input = number_of_toes[1]\n",
    "truth = win_or_lose_binary[1]"
   ]
  },
  {
   "cell_type": "code",
   "execution_count": 30,
   "id": "ed5dfc6f",
   "metadata": {
    "ExecuteTime": {
     "end_time": "2023-10-03T16:55:16.241000+09:00",
     "start_time": "2023-10-03T07:55:16.114Z"
    }
   },
   "outputs": [
    {
     "name": "stdout",
     "output_type": "stream",
     "text": [
      "----\n",
      "weight:0.0085\n",
      "error:1.0\n",
      "delta:-1.0\n",
      "weight_delta:-8.5\n",
      "----\n",
      "----\n",
      "weight:0.016385875\n",
      "error:0.8607200624999999\n",
      "delta:-0.92775\n",
      "weight_delta:-7.8858749999999995\n",
      "----\n",
      "----\n",
      "weight:0.023701995531250002\n",
      "error:0.7408390259900038\n",
      "delta:-0.8607200625\n",
      "weight_delta:-7.31612053125\n",
      "----\n",
      "----\n",
      "weight:0.03048952635411719\n",
      "error:0.6376550127525552\n",
      "delta:-0.7985330379843749\n",
      "weight_delta:-6.787530822867187\n",
      "----\n",
      "----\n",
      "weight:0.03678665807503222\n",
      "error:0.5488424624298177\n",
      "delta:-0.740839025990004\n",
      "weight_delta:-6.297131720915034\n",
      "----\n",
      "----\n",
      "weight:0.04262882202911115\n",
      "error:0.4723997185652466\n",
      "delta:-0.6873134063622262\n",
      "weight_delta:-5.842163954078922\n",
      "----\n",
      "----\n",
      "weight:0.04804888963750787\n",
      "error:0.40660391528846146\n",
      "delta:-0.6376550127525553\n",
      "weight_delta:-5.42006760839672\n",
      "----\n",
      "----\n",
      "weight:0.053077357361197924\n",
      "error:0.3499721473798292\n",
      "delta:-0.5915844380811831\n",
      "weight_delta:-5.028467723690056\n",
      "----\n",
      "----\n",
      "weight:0.057742518291851376\n",
      "error:0.30122804856602575\n",
      "delta:-0.5488424624298176\n",
      "weight_delta:-4.66516093065345\n",
      "----\n",
      "----\n",
      "weight:0.062070621345265115\n",
      "error:0.2592730247885028\n",
      "delta:-0.5091885945192633\n",
      "weight_delta:-4.328103053413739\n",
      "----\n",
      "----\n",
      "weight:0.0660860189530697\n",
      "error:0.22316149410052413\n",
      "delta:-0.47239971856524654\n",
      "weight_delta:-4.015397607804595\n",
      "----\n",
      "----\n",
      "weight:0.06981130408371042\n",
      "error:0.1920795751497966\n",
      "delta:-0.43826883889890755\n",
      "weight_delta:-3.725285130640714\n",
      "----\n",
      "----\n",
      "weight:0.07326743736366234\n",
      "error:0.1653267439279063\n",
      "delta:-0.4066039152884614\n",
      "weight_delta:-3.456133279951922\n",
      "----\n",
      "----\n",
      "weight:0.07647386501413773\n",
      "error:0.14230004536654903\n",
      "delta:-0.3772267824088701\n",
      "weight_delta:-3.206427650475396\n",
      "----\n",
      "----\n",
      "weight:0.07944862826686629\n",
      "error:0.12248050394164896\n",
      "delta:-0.3499721473798293\n",
      "weight_delta:-2.974763252728549\n",
      "----\n",
      "----\n",
      "weight:0.08220846487458519\n",
      "error:0.10542142700768756\n",
      "delta:-0.3246866597316366\n",
      "weight_delta:-2.7598366077189107\n",
      "----\n",
      "----\n",
      "weight:0.0847689032873964\n",
      "error:0.09073833724289607\n",
      "delta:-0.3012280485660259\n",
      "weight_delta:-2.5604384128112203\n",
      "----\n",
      "----\n",
      "weight:0.08714435002488201\n",
      "error:0.0781003073028516\n",
      "delta:-0.27946432205713057\n",
      "weight_delta:-2.3754467374856096\n",
      "----\n",
      "----\n",
      "weight:0.08934817073558428\n",
      "error:0.06722250138297964\n",
      "delta:-0.2592730247885029\n",
      "weight_delta:-2.2038207107022747\n",
      "----\n",
      "----\n",
      "weight:0.09139276539993832\n",
      "error:0.057859755591764594\n",
      "delta:-0.2405405487475336\n",
      "weight_delta:-2.044594664354036\n",
      "----\n"
     ]
    }
   ],
   "source": [
    "# alpha=0.001のとき\n",
    "gradient_descent(alpha=0.001, weight=0.0, input=input, truth=truth)"
   ]
  },
  {
   "cell_type": "code",
   "execution_count": 24,
   "id": "2d53c8ff",
   "metadata": {
    "ExecuteTime": {
     "end_time": "2023-10-03T16:53:35.249000+09:00",
     "start_time": "2023-10-03T07:53:35.027Z"
    }
   },
   "outputs": [
    {
     "name": "stdout",
     "output_type": "stream",
     "text": [
      "----\n",
      "weight:0.085\n",
      "error:1.0\n",
      "delta:-1.0\n",
      "weight_delta:-8.5\n",
      "----\n",
      "----\n",
      "weight:0.1085875\n",
      "error:0.07700624999999998\n",
      "delta:-0.27749999999999997\n",
      "weight_delta:-2.3587499999999997\n",
      "----\n",
      "----\n",
      "weight:0.11513303125\n",
      "error:0.005929962539062491\n",
      "delta:-0.07700624999999994\n",
      "weight_delta:-0.6545531249999995\n",
      "----\n",
      "----\n",
      "weight:0.116949416171875\n",
      "error:0.00045664417777367884\n",
      "delta:-0.021369234374999935\n",
      "weight_delta:-0.18163849218749945\n",
      "----\n",
      "----\n",
      "weight:0.11745346298769531\n",
      "error:3.51644557146849e-5\n",
      "delta:-0.005929962539062528\n",
      "weight_delta:-0.050404681582031485\n",
      "----\n",
      "----\n",
      "weight:0.11759333597908544\n",
      "error:2.7078828678790035e-6\n",
      "delta:-0.0016455646045898664\n",
      "weight_delta:-0.013987299139013865\n",
      "----\n",
      "----\n",
      "weight:0.11763215073419621\n",
      "error:2.0852390509461005e-7\n",
      "delta:-0.0004566441777736907\n",
      "weight_delta:-0.003881475511076371\n",
      "----\n",
      "----\n",
      "weight:0.11764292182873945\n",
      "error:1.6057643966700607e-8\n",
      "delta:-0.00012671875933223387\n",
      "weight_delta:-0.0010771094543239879\n",
      "----\n",
      "----\n",
      "weight:0.1176459108074752\n",
      "error:1.236538945712515e-9\n",
      "delta:-3.5164455714720155e-5\n",
      "weight_delta:-0.0002988978735751213\n",
      "----\n",
      "----\n",
      "weight:0.11764674024907437\n",
      "error:9.522122718677389e-11\n",
      "delta:-9.75813646075796e-6\n",
      "weight_delta:-8.294415991644266e-5\n",
      "----\n",
      "----\n",
      "weight:0.11764697041911813\n",
      "error:7.332629625860603e-12\n",
      "delta:-2.7078828678250844e-6\n",
      "weight_delta:-2.3017004376513217e-5\n",
      "----\n",
      "----\n",
      "weight:0.11764703429130528\n",
      "error:5.646583102352994e-13\n",
      "delta:-7.51437495893903e-7\n",
      "weight_delta:-6.387218715098175e-6\n",
      "----\n",
      "----\n",
      "weight:0.11764705201583722\n",
      "error:4.3482219016100247e-14\n",
      "delta:-2.085239051430321e-7\n",
      "weight_delta:-1.7724531937157728e-6\n",
      "----\n",
      "----\n",
      "weight:0.11764705693439483\n",
      "error:3.3484026186968997e-15\n",
      "delta:-5.786538359586757e-8\n",
      "weight_delta:-4.918557605648743e-7\n",
      "----\n",
      "----\n",
      "weight:0.11764705829929456\n",
      "error:2.578479305822334e-16\n",
      "delta:-1.605764399226217e-8\n",
      "weight_delta:-1.3648997393422846e-7\n",
      "----\n",
      "----\n",
      "weight:0.11764705867805424\n",
      "error:1.9855902478964915e-17\n",
      "delta:-4.4559962386614416e-9\n",
      "weight_delta:-3.7875968028622253e-8\n",
      "----\n",
      "----\n",
      "weight:0.11764705878316005\n",
      "error:1.5290286547939916e-18\n",
      "delta:-1.2365389823187911e-9\n",
      "weight_delta:-1.0510581349709724e-8\n",
      "----\n",
      "----\n",
      "weight:0.11764705881232691\n",
      "error:1.1774480418255062e-19\n",
      "delta:-3.431396278230636e-10\n",
      "weight_delta:-2.9166868364960408e-9\n",
      "----\n",
      "----\n",
      "weight:0.11764705882042072\n",
      "error:9.067091271499614e-21\n",
      "delta:-9.522127530914304e-11\n",
      "weight_delta:-8.093808401277158e-10\n",
      "----\n",
      "----\n",
      "weight:0.11764705882266674\n",
      "error:6.982205410002335e-22\n",
      "delta:-2.6423863097591038e-11\n",
      "weight_delta:-2.2460283632952383e-10\n",
      "----\n"
     ]
    }
   ],
   "source": [
    "# alpha=0.01のとき\n",
    "gradient_descent(alpha=0.01, weight=0.0, input=input, truth=truth)"
   ]
  },
  {
   "cell_type": "code",
   "execution_count": 25,
   "id": "cbc71606",
   "metadata": {
    "ExecuteTime": {
     "end_time": "2023-10-03T16:53:47.021000+09:00",
     "start_time": "2023-10-03T07:53:46.801Z"
    }
   },
   "outputs": [
    {
     "name": "stdout",
     "output_type": "stream",
     "text": [
      "----\n",
      "weight:0.8500000000000001\n",
      "error:1.0\n",
      "delta:-1.0\n",
      "weight_delta:-8.5\n",
      "----\n",
      "----\n",
      "weight:-4.44125\n",
      "error:38.75062500000001\n",
      "delta:6.2250000000000005\n",
      "weight_delta:52.9125\n",
      "----\n",
      "----\n",
      "weight:28.49678125\n",
      "error:1501.6109378906249\n",
      "delta:-38.750625\n",
      "weight_delta:-329.3803125\n",
      "----\n",
      "----\n",
      "weight:-176.54246328125\n",
      "error:58188.362350097916\n",
      "delta:241.22264062500003\n",
      "weight_delta:2050.3924453125\n",
      "----\n",
      "----\n",
      "weight:1099.8268339257813\n",
      "error:2.2548354087927626e6\n",
      "delta:-1501.610937890625\n",
      "weight_delta:-12763.692972070314\n",
      "----\n",
      "----\n",
      "weight:-6845.572041187989\n",
      "error:8.737628136285006e7\n",
      "delta:9347.528088369141\n",
      "weight_delta:79453.9887511377\n",
      "----\n",
      "----\n",
      "weight:42614.53595639524\n",
      "error:3.385885512986292e9\n",
      "delta:-58188.36235009791\n",
      "weight_delta:-494601.0799758322\n",
      "----\n",
      "----\n",
      "weight:-265274.6363285603\n",
      "error:1.3120517980666444e11\n",
      "delta:362222.5556293595\n",
      "weight_delta:3.078891722849556e6\n",
      "----\n",
      "----\n",
      "weight:1.651335461145288e6\n",
      "error:5.084282720745625e12\n",
      "delta:-2.2548354087927626e6\n",
      "weight_delta:-1.9166100974738482e7\n",
      "----\n",
      "----\n",
      "weight:-1.027956239562942e7\n",
      "error:1.970191331055935e14\n",
      "delta:1.403635041973495e7\n",
      "weight_delta:1.1930897856774707e8\n",
      "----\n",
      "----\n",
      "weight:6.399027676279315e7\n",
      "error:7.63461454479994e15\n",
      "delta:-8.737628136285007e7\n",
      "weight_delta:-7.426983915842257e8\n",
      "----\n",
      "----\n",
      "weight:-3.9833947199838734e8\n",
      "error:2.9584608524508826e17\n",
      "delta:5.439173514837418e8\n",
      "weight_delta:4.623297487611805e9\n",
      "----\n",
      "----\n",
      "weight:2.4796632140399613e9\n",
      "error:1.1464220707050449e19\n",
      "delta:-3.3858855129862924e9\n",
      "weight_delta:-2.8780026860383484e10\n",
      "----\n",
      "----\n",
      "weight:-1.5435903506548761e10\n",
      "error:4.4424571753614685e20\n",
      "delta:2.1077137318339672e10\n",
      "weight_delta:1.791556672058872e11\n",
      "----\n",
      "----\n",
      "weight:9.608849932911603e10\n",
      "error:1.7214799208099156e22\n",
      "delta:-1.3120517980666447e11\n",
      "weight_delta:-1.115244028356648e12\n",
      "----\n",
      "----\n",
      "weight:-5.981509083228972e11\n",
      "error:6.670842285633471e23\n",
      "delta:8.167522442964862e11\n",
      "weight_delta:6.942394076520133e12\n",
      "----\n",
      "----\n",
      "weight:3.723489404310885e12\n",
      "error:2.5849930784472546e25\n",
      "delta:-5.084282720745626e12\n",
      "weight_delta:-4.321640312633782e13\n",
      "----\n",
      "----\n",
      "weight:-2.3178721541834406e13\n",
      "error:1.0017009741050513e27\n",
      "delta:3.164965993664152e13\n",
      "weight_delta:2.690221094614529e14\n",
      "----\n",
      "----\n",
      "weight:1.4428754159792003e14\n",
      "error:3.8816538809679544e28\n",
      "delta:-1.9701913310559344e14\n",
      "weight_delta:-1.6746626313975442e15\n",
      "----\n",
      "----\n",
      "weight:-8.981899464470515e14\n",
      "error:1.5041651392118387e30\n",
      "delta:1.2264441035823192e15\n",
      "weight_delta:1.0424774880449714e16\n",
      "----\n"
     ]
    }
   ],
   "source": [
    "# alpha=0.1のとき\n",
    "gradient_descent(alpha=0.1, weight=0.0, input=input, truth=truth)"
   ]
  },
  {
   "cell_type": "code",
   "execution_count": 27,
   "id": "47f1dbd9",
   "metadata": {
    "ExecuteTime": {
     "end_time": "2023-10-03T16:54:22.517000+09:00",
     "start_time": "2023-10-03T07:54:22.413Z"
    }
   },
   "outputs": [
    {
     "name": "stdout",
     "output_type": "stream",
     "text": [
      "----\n",
      "weight:8.5\n",
      "error:1.0\n",
      "delta:-1.0\n",
      "weight_delta:-8.5\n",
      "----\n",
      "----\n",
      "weight:-597.125\n",
      "error:5076.5625\n",
      "delta:71.25\n",
      "weight_delta:605.625\n",
      "----\n",
      "----\n",
      "weight:42553.65625\n",
      "error:2.577148681640625e7\n",
      "delta:-5076.5625\n",
      "weight_delta:-43150.78125\n",
      "----\n",
      "----\n",
      "weight:-3.0319395078125e6\n",
      "error:1.3083056354141235e11\n",
      "delta:361705.078125\n",
      "weight_delta:3.0744931640625e6\n",
      "----\n",
      "----\n",
      "weight:2.1602569843164062e8\n",
      "error:6.641695327282011e14\n",
      "delta:-2.577148681640625e7\n",
      "weight_delta:-2.1905763793945312e8\n",
      "----\n",
      "----\n",
      "weight:-1.5391831004754395e10\n",
      "error:3.371698143490509e18\n",
      "delta:1.8362184356689453e9\n",
      "weight_delta:1.5607856703186035e10\n",
      "----\n",
      "----\n",
      "weight:1.0966679590972505e12\n",
      "error:1.7116636356563536e22\n",
      "delta:-1.3083056354141235e11\n",
      "weight_delta:-1.112059790102005e12\n",
      "----\n",
      "----\n",
      "weight:-7.81375920856706e13\n",
      "error:8.689367425386705e25\n",
      "delta:9.321677652325629e12\n",
      "weight_delta:7.923426004476784e13\n",
      "----\n",
      "----\n",
      "weight:5.567303436104037e15\n",
      "error:4.4112116820439684e29\n",
      "delta:-6.64169532728201e14\n",
      "weight_delta:-5.645441028189708e15\n",
      "----\n",
      "----\n",
      "weight:-3.966703698224126e17\n",
      "error:2.2393791804626325e33\n",
      "delta:4.732207920688431e16\n",
      "weight_delta:4.022376732585167e17\n",
      "----\n",
      "----\n",
      "weight:2.82627638498469e19\n",
      "error:1.1368348370817334e37\n",
      "delta:-3.3716981434905073e18\n",
      "weight_delta:-2.865943421966931e19\n",
      "----\n",
      "----\n",
      "weight:-2.0137219243015914e21\n",
      "error:5.771213102622736e40\n",
      "delta:2.4023349272369863e20\n",
      "weight_delta:2.0419846881514383e21\n",
      "----\n",
      "----\n",
      "weight:1.434776871064884e23\n",
      "error:2.9297924016283236e44\n",
      "delta:-1.7116636356563528e22\n",
      "weight_delta:-1.4549140903078999e23\n",
      "----\n",
      "----\n",
      "weight:-1.02227852063373e25\n",
      "error:1.4873274238891288e48\n",
      "delta:1.2195603404051514e24\n",
      "weight_delta:1.0366262893443788e25\n",
      "----\n",
      "----\n",
      "weight:7.283734459515325e26\n",
      "error:7.550510625337156e51\n",
      "delta:-8.689367425386705e25\n",
      "weight_delta:-7.385962311578699e26\n",
      "----\n",
      "----\n",
      "weight:-5.1896608024046696e28\n",
      "error:3.8330639096438156e55\n",
      "delta:6.191174290588027e27\n",
      "weight_delta:5.262498146999823e28\n",
      "----\n",
      "----\n",
      "weight:3.697633321713327e30\n",
      "error:1.9458788503801183e59\n",
      "delta:-4.411211682043969e29\n",
      "weight_delta:-3.7495299297373735e30\n",
      "----\n",
      "----\n",
      "weight:-2.6345637417207453e32\n",
      "error:9.878375601382818e62\n",
      "delta:3.1429883234563277e31\n",
      "weight_delta:2.6715400749378785e32\n",
      "----\n",
      "----\n",
      "weight:1.8771266659760309e34\n",
      "error:5.014819113889496e66\n",
      "delta:-2.2393791804626334e33\n",
      "weight_delta:-1.9034723033932384e34\n",
      "----\n",
      "----\n",
      "weight:-1.3374527495079218e36\n",
      "error:2.545804265785464e70\n",
      "delta:1.5955576660796262e35\n",
      "weight_delta:1.3562240161676822e36\n",
      "----\n"
     ]
    }
   ],
   "source": [
    "# alpha=1.0のとき\n",
    "gradient_descent(alpha=1.0, weight=0.0, input=input, truth=truth)"
   ]
  },
  {
   "cell_type": "code",
   "execution_count": 29,
   "id": "f18ea7ab",
   "metadata": {
    "ExecuteTime": {
     "end_time": "2023-10-03T16:54:50.199000+09:00",
     "start_time": "2023-10-03T07:54:50.085Z"
    }
   },
   "outputs": [
    {
     "name": "stdout",
     "output_type": "stream",
     "text": [
      "----\n",
      "weight:85.0\n",
      "error:1.0\n",
      "delta:-1.0\n",
      "weight_delta:-8.5\n",
      "----\n",
      "----\n",
      "weight:-61242.5\n",
      "error:520562.25\n",
      "delta:721.5\n",
      "weight_delta:6132.75\n",
      "----\n",
      "----\n",
      "weight:4.418654875e7\n",
      "error:2.709850561250625e11\n",
      "delta:-520562.25\n",
      "weight_delta:-4.424779125e6\n",
      "----\n",
      "----\n",
      "weight:-3.1880594838125e10\n",
      "error:1.4106459053283882e17\n",
      "delta:3.75585663375e8\n",
      "weight_delta:3.1924781386875e9\n",
      "----\n",
      "----\n",
      "weight:2.3001849175792188e13\n",
      "error:7.3432900643103275e22\n",
      "delta:-2.709850561250625e11\n",
      "weight_delta:-2.3033729770630312e12\n",
      "----\n",
      "----\n",
      "weight:-1.6595834180333978e16\n",
      "error:3.8226395982800286e28\n",
      "delta:1.955157179942326e14\n",
      "weight_delta:1.661883602950977e15\n",
      "----\n",
      "----\n",
      "weight:1.1973894361110966e19\n",
      "error:1.989921870219748e34\n",
      "delta:-1.4106459053283882e17\n",
      "weight_delta:-1.19904901952913e18\n",
      "----\n",
      "----\n",
      "weight:-8.639164781541562e21\n",
      "error:1.0358782060858001e40\n",
      "delta:1.0177810206944322e20\n",
      "weight_delta:8.651138675902673e20\n",
      "----\n",
      "----\n",
      "weight:6.233157389882237e24\n",
      "error:5.392390896859877e45\n",
      "delta:-7.3432900643103275e22\n",
      "weight_delta:-6.241796554663779e23\n",
      "----\n",
      "----\n",
      "weight:-4.497223056800035e27\n",
      "error:2.807075138148896e51\n",
      "delta:5.298183781399902e25\n",
      "weight_delta:4.503456214189917e26\n",
      "----\n",
      "----\n",
      "weight:3.244746435481226e30\n",
      "error:1.4612573498338508e57\n",
      "delta:-3.82263959828003e28\n",
      "weight_delta:-3.2492436585380256e29\n",
      "----\n",
      "----\n",
      "weight:-2.3410845531997044e33\n",
      "error:7.606754138585467e62\n",
      "delta:2.758034470159042e31\n",
      "weight_delta:2.3443292996351857e32\n",
      "----\n",
      "----\n",
      "weight:1.689092505133587e36\n",
      "error:3.9597890495788623e68\n",
      "delta:-1.9899218702197487e34\n",
      "weight_delta:-1.6914335896867865e35\n",
      "----\n",
      "----\n",
      "weight:-1.2186802424538829e39\n",
      "error:2.0613166971741345e74\n",
      "delta:1.4357286293635489e37\n",
      "weight_delta:1.2203693349590165e38\n",
      "----\n",
      "----\n",
      "weight:8.792777949304764e41\n",
      "error:1.0730436578435361e80\n",
      "delta:-1.0358782060858005e40\n",
      "weight_delta:-8.804964751729303e40\n",
      "----\n",
      "----\n",
      "weight:-6.343989290423387e44\n",
      "error:5.585860208752611e85\n",
      "delta:7.473861256909049e42\n",
      "weight_delta:6.352782068372691e43\n",
      "----\n",
      "----\n",
      "weight:4.577188273040474e47\n",
      "error:2.9077879584537293e91\n",
      "delta:-5.392390896859879e45\n",
      "weight_delta:-4.583532262330898e46\n",
      "----\n",
      "----\n",
      "weight:-3.302441338998702e50\n",
      "error:1.51368464217558e97\n",
      "delta:3.890610032084403e48\n",
      "weight_delta:3.3070185272717427e49\n",
      "----\n",
      "----\n",
      "weight:2.3827114260875636e53\n",
      "error:7.87967083121365e102\n",
      "delta:-2.807075138148897e51\n",
      "weight_delta:-2.3860138674265624e52\n",
      "----\n",
      "----\n",
      "weight:-1.7191262939221773e56\n",
      "error:4.1018591771559474e108\n",
      "delta:2.025304712174429e54\n",
      "weight_delta:1.721509005348265e55\n",
      "----\n"
     ]
    }
   ],
   "source": [
    "# alpha=10のとき\n",
    "gradient_descent(alpha=10.0, weight=0.0, input=input, truth=truth)"
   ]
  },
  {
   "cell_type": "markdown",
   "id": "3108cbc6",
   "metadata": {},
   "source": [
    "↑に対するコメント  \n",
    "alpha=0.01のときが一番うまくいった"
   ]
  },
  {
   "cell_type": "markdown",
   "id": "19508594",
   "metadata": {},
   "source": [
    "# 暗記する\n",
    "スクリプトなし"
   ]
  }
 ],
 "metadata": {
  "kernelspec": {
   "display_name": "Julia 1.9.2",
   "language": "julia",
   "name": "julia-1.9"
  },
  "language_info": {
   "file_extension": ".jl",
   "mimetype": "application/julia",
   "name": "julia",
   "version": "1.9.2"
  },
  "toc": {
   "base_numbering": 1,
   "nav_menu": {},
   "number_sections": true,
   "sideBar": true,
   "skip_h1_title": false,
   "title_cell": "Table of Contents",
   "title_sidebar": "Contents",
   "toc_cell": false,
   "toc_position": {},
   "toc_section_display": true,
   "toc_window_display": false
  }
 },
 "nbformat": 4,
 "nbformat_minor": 5
}
