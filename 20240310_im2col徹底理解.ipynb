{
 "cells": [
  {
   "cell_type": "markdown",
   "metadata": {},
   "source": [
    "# 概要\n",
    "本NoteBookは、[im2col徹底理解](https://qiita.com/kuroitu/items/35d7b5a4bde470f69570)を理解するために書いたコード集である。"
   ]
  },
  {
   "cell_type": "code",
   "execution_count": 2,
   "metadata": {},
   "outputs": [],
   "source": [
    "import numpy as np"
   ]
  },
  {
   "cell_type": "code",
   "execution_count": 5,
   "metadata": {},
   "outputs": [
    {
     "name": "stdout",
     "output_type": "stream",
     "text": [
      "[[ 1  2  3  4]\n",
      " [ 5  6  7  8]\n",
      " [ 9 10 11 12]\n",
      " [13 14 15 16]]\n"
     ]
    }
   ],
   "source": [
    "image = np.array(\n",
    "    [[1,  2,  3,  4,],\n",
    "     [5,  6,  7,  8,],\n",
    "     [9,  10, 11, 12,],\n",
    "     [13, 14, 15, 16,],]\n",
    ")\n",
    "\n",
    "print(image)"
   ]
  },
  {
   "cell_type": "code",
   "execution_count": 6,
   "metadata": {},
   "outputs": [],
   "source": [
    "F_h, F_w, O_h, O_w = 2, 2, 3, 3"
   ]
  },
  {
   "cell_type": "code",
   "execution_count": 17,
   "metadata": {},
   "outputs": [
    {
     "name": "stdout",
     "output_type": "stream",
     "text": [
      "[[[[ 1.  2.  3.]\n",
      "   [ 5.  6.  7.]\n",
      "   [ 9. 10. 11.]]\n",
      "\n",
      "  [[ 2.  3.  4.]\n",
      "   [ 6.  7.  8.]\n",
      "   [10. 11. 12.]]]\n",
      "\n",
      "\n",
      " [[[ 5.  6.  7.]\n",
      "   [ 9. 10. 11.]\n",
      "   [13. 14. 15.]]\n",
      "\n",
      "  [[ 6.  7.  8.]\n",
      "   [10. 11. 12.]\n",
      "   [14. 15. 16.]]]]\n",
      "[[ 1.  2.  3.  5.  6.  7.  9. 10. 11.]\n",
      " [ 2.  3.  4.  6.  7.  8. 10. 11. 12.]\n",
      " [ 5.  6.  7.  9. 10. 11. 13. 14. 15.]\n",
      " [ 6.  7.  8. 10. 11. 12. 14. 15. 16.]]\n"
     ]
    }
   ],
   "source": [
    "col = np.empty((F_h, F_w, O_h, O_w))\n",
    "\n",
    "for h in range(F_h):\n",
    "    for w in range(F_w):\n",
    "        col[h, w, :, :] = image[h : h+O_h, w : w+O_w]\n",
    "\n",
    "print(col)\n",
    "\n",
    "col = col.reshape(F_h*F_w, O_h*O_w)\n",
    "print(col)\n",
    "\n"
   ]
  },
  {
   "cell_type": "code",
   "execution_count": 10,
   "metadata": {},
   "outputs": [],
   "source": []
  },
  {
   "cell_type": "code",
   "execution_count": 13,
   "metadata": {},
   "outputs": [
    {
     "name": "stdout",
     "output_type": "stream",
     "text": [
      "[[[[ 1.  2.  3.]\n",
      "   [ 5.  6.  7.]\n",
      "   [ 9. 10. 11.]]\n",
      "\n",
      "  [[ 2.  3.  4.]\n",
      "   [ 6.  7.  8.]\n",
      "   [10. 11. 12.]]]\n",
      "\n",
      "\n",
      " [[[ 5.  6.  7.]\n",
      "   [ 9. 10. 11.]\n",
      "   [13. 14. 15.]]\n",
      "\n",
      "  [[ 6.  7.  8.]\n",
      "   [10. 11. 12.]\n",
      "   [14. 15. 16.]]]]\n"
     ]
    }
   ],
   "source": []
  },
  {
   "cell_type": "code",
   "execution_count": 16,
   "metadata": {},
   "outputs": [],
   "source": []
  }
 ],
 "metadata": {
  "kernelspec": {
   "display_name": "grokking_deep_learning",
   "language": "python",
   "name": "python3"
  },
  "language_info": {
   "codemirror_mode": {
    "name": "ipython",
    "version": 3
   },
   "file_extension": ".py",
   "mimetype": "text/x-python",
   "name": "python",
   "nbconvert_exporter": "python",
   "pygments_lexer": "ipython3",
   "version": "3.9.18"
  }
 },
 "nbformat": 4,
 "nbformat_minor": 2
}
