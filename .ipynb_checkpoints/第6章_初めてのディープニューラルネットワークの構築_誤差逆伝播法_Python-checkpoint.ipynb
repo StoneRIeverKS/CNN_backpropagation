{
 "cells": [
  {
   "cell_type": "markdown",
   "id": "94cb396d",
   "metadata": {},
   "source": [
    "# 誤差逆伝播法のコード"
   ]
  },
  {
   "cell_type": "code",
   "execution_count": 8,
   "id": "2d406139",
   "metadata": {
    "ExecuteTime": {
     "end_time": "2023-10-15T14:35:21.857844Z",
     "start_time": "2023-10-15T14:35:21.816655Z"
    }
   },
   "outputs": [
    {
     "name": "stdout",
     "output_type": "stream",
     "text": [
      "1.7657455594835676\n",
      "1.2017110476701143\n",
      "0.9840700937644641\n",
      "0.7989631777955875\n",
      "0.6322856032862697\n",
      "0.4741078361832955\n",
      "0.4274566029793989\n",
      "0.3900749138124721\n",
      "0.35727348585592694\n",
      "0.32782484545823576\n",
      "0.3011095251407906\n",
      "0.2767459003188341\n",
      "0.2544638324563194\n",
      "0.23405216068570286\n",
      "0.2153348757922\n",
      "0.19815949555627785\n",
      "0.18239095545962133\n",
      "0.16790810952727703\n",
      "0.15460151950424178\n",
      "0.14237191191003284\n",
      "0.1311290044120579\n",
      "0.12079055404217774\n",
      "0.11128155181842564\n",
      "0.10253352318374986\n",
      "0.09448391084110254\n",
      "0.0870755252510573\n",
      "0.08025605263828318\n",
      "0.07397761291704757\n",
      "0.0681963614979516\n",
      "0.06287212996450182\n",
      "0.057968101346878805\n",
      "0.053450516290043784\n",
      "0.049288406875111095\n",
      "0.0454533552394968\n",
      "0.04191927447156562\n",
      "0.03866220954103047\n",
      "0.03566015627513866\n",
      "0.03289289660848599\n",
      "0.030341848525637788\n",
      "0.027989929284242068\n",
      "0.025821430655022133\n",
      "0.023821905046499982\n",
      "0.021978061498717248\n",
      "0.020277670633474333\n",
      "0.018709477740323752\n",
      "0.017263123259146855\n",
      "0.015929069992834\n",
      "0.014698536448438234\n",
      "0.013563435763117167\n",
      "0.012516319723012741\n",
      "0.011550327429660449\n",
      "0.010659138210177789\n",
      "0.009836928404899645\n",
      "0.009078331699779906\n",
      "0.008378402701177927\n",
      "0.007732583477962932\n",
      "0.00713667282052091\n",
      "0.0065867979885200455\n",
      "0.0060793887394346244\n",
      "0.005611153448064781\n"
     ]
    }
   ],
   "source": [
    "import numpy as np\n",
    "\n",
    "np.random.seed(1)\n",
    "\n",
    "def relu(x):\n",
    "    return (x>0)*x\n",
    "\n",
    "def relu2deriv(output):\n",
    "    return output>0\n",
    "\n",
    "alpha = 1\n",
    "hidden_size = 4\n",
    "\n",
    "streetlights = np.array([ [1, 0, 1],\n",
    "                          [0, 1, 1],\n",
    "                          [0, 0, 1],\n",
    "                          [1, 1, 1],])\n",
    "\n",
    "walk_vs_stop = np.array([[1, 1, 0, 0]]).T\n",
    "\n",
    "weights_0_1 = 2*np.random.random((3, hidden_size))-1\n",
    "weights_1_2 = 2*np.random.random((hidden_size, 1))-1\n",
    "\n",
    "for iteration in range(60):\n",
    "    layer_2_error = 0\n",
    "    \n",
    "    for i in range(len(streetlights)):\n",
    "        layer_0 = streetlights[i:i+1]\n",
    "        layer_1_1 = np.dot(layer_0, weights_0_1)\n",
    "        layer_1_2 = relu(layer_1_1)\n",
    "        layer_2 = np.dot(layer_1_2, weights_1_2)\n",
    "        \n",
    "        layer_2_error += np.sum((layer_2-walk_vs_stop[i:i+1])**2)\n",
    "        layer_2_delta = (walk_vs_stop[i:i+1]-layer_2)\n",
    "        \n",
    "        layer_1_delta = layer_2_delta.dot(weights_1_2.T)*relu2deriv(layer_1_1)\n",
    "        \n",
    "        weights_1_2 += alpha*layer_1.T.dot(layer_2_delta)\n",
    "        weights_0_1 += alpha*layer_0.T.dot(layer_1_delta)\n",
    "    \n",
    "    print(layer_2_error)"
   ]
  },
  {
   "cell_type": "code",
   "execution_count": 9,
   "id": "bdf06894",
   "metadata": {
    "ExecuteTime": {
     "end_time": "2023-10-09T12:57:13.803036Z",
     "start_time": "2023-10-09T12:57:13.764232Z"
    }
   },
   "outputs": [
    {
     "ename": "ValueError",
     "evalue": "shapes (1,1) and (4,) not aligned: 1 (dim 1) != 4 (dim 0)",
     "output_type": "error",
     "traceback": [
      "\u001b[1;31m---------------------------------------------------------------------------\u001b[0m",
      "\u001b[1;31mValueError\u001b[0m                                Traceback (most recent call last)",
      "Cell \u001b[1;32mIn[9], line 1\u001b[0m\n\u001b[1;32m----> 1\u001b[0m \u001b[43mnp\u001b[49m\u001b[38;5;241;43m.\u001b[39;49m\u001b[43marray\u001b[49m\u001b[43m(\u001b[49m\u001b[43m[\u001b[49m\u001b[43m[\u001b[49m\u001b[38;5;241;43m1\u001b[39;49m\u001b[43m]\u001b[49m\u001b[43m]\u001b[49m\u001b[43m)\u001b[49m\u001b[38;5;241;43m.\u001b[39;49m\u001b[43mdot\u001b[49m\u001b[43m(\u001b[49m\u001b[43mnp\u001b[49m\u001b[38;5;241;43m.\u001b[39;49m\u001b[43marray\u001b[49m\u001b[43m(\u001b[49m\u001b[43m[\u001b[49m\u001b[38;5;241;43m1\u001b[39;49m\u001b[43m,\u001b[49m\u001b[38;5;241;43m2\u001b[39;49m\u001b[43m,\u001b[49m\u001b[38;5;241;43m3\u001b[39;49m\u001b[43m,\u001b[49m\u001b[38;5;241;43m4\u001b[39;49m\u001b[43m]\u001b[49m\u001b[43m)\u001b[49m\u001b[43m)\u001b[49m\n",
      "\u001b[1;31mValueError\u001b[0m: shapes (1,1) and (4,) not aligned: 1 (dim 1) != 4 (dim 0)"
     ]
    }
   ],
   "source": [
    "np.array([[1]]).dot(np.array([1,2,3,4]))"
   ]
  }
 ],
 "metadata": {
  "kernelspec": {
   "display_name": "Python 3 (ipykernel)",
   "language": "python",
   "name": "python3"
  },
  "language_info": {
   "codemirror_mode": {
    "name": "ipython",
    "version": 3
   },
   "file_extension": ".py",
   "mimetype": "text/x-python",
   "name": "python",
   "nbconvert_exporter": "python",
   "pygments_lexer": "ipython3",
   "version": "3.8.5"
  },
  "toc": {
   "base_numbering": 1,
   "nav_menu": {},
   "number_sections": true,
   "sideBar": true,
   "skip_h1_title": false,
   "title_cell": "Table of Contents",
   "title_sidebar": "Contents",
   "toc_cell": false,
   "toc_position": {},
   "toc_section_display": true,
   "toc_window_display": false
  }
 },
 "nbformat": 4,
 "nbformat_minor": 5
}
