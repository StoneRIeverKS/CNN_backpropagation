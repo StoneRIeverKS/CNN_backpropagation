{
 "cells": [
  {
   "cell_type": "markdown",
   "id": "82567cb7",
   "metadata": {},
   "source": [
    "# 予測する\n",
    "スクリプトはなし"
   ]
  },
  {
   "cell_type": "markdown",
   "id": "3e996704",
   "metadata": {},
   "source": [
    "# 予測を行う単純なニューラルネットワーク"
   ]
  },
  {
   "cell_type": "code",
   "execution_count": 20,
   "id": "deb7f4dc",
   "metadata": {
    "ExecuteTime": {
     "end_time": "2023-09-01T15:00:10.731000+09:00",
     "start_time": "2023-09-01T06:00:10.738Z"
    }
   },
   "outputs": [
    {
     "data": {
      "text/plain": [
       "neural_network (generic function with 2 methods)"
      ]
     },
     "execution_count": 20,
     "metadata": {},
     "output_type": "execute_result"
    }
   ],
   "source": [
    "# 順伝播を行う関数\n",
    "neural_network(;input, weight) = input*weight"
   ]
  },
  {
   "cell_type": "code",
   "execution_count": 22,
   "id": "ec864dcd",
   "metadata": {
    "ExecuteTime": {
     "end_time": "2023-09-01T15:00:56.525000+09:00",
     "start_time": "2023-09-01T06:00:56.531Z"
    }
   },
   "outputs": [
    {
     "name": "stdout",
     "output_type": "stream",
     "text": [
      "0.8500000000000001\n"
     ]
    }
   ],
   "source": [
    "# データ\n",
    "number_of_toes = [8.5, 9.5, 10, 9]\n",
    "\n",
    "# 重み\n",
    "weight_val = 0.1\n",
    "\n",
    "# 順伝播の計算\n",
    "pred = neural_network(input=number_of_toes[1], weight=weight_val)\n",
    "println(pred)"
   ]
  },
  {
   "cell_type": "markdown",
   "id": "31ceb2e9",
   "metadata": {},
   "source": [
    "# ニューラルネットワークとは何か\n",
    "スクリプトはなし"
   ]
  },
  {
   "cell_type": "markdown",
   "id": "07298b7b",
   "metadata": {},
   "source": [
    "# このニューラルネットワークは何をするか\n",
    "スクリプトはなし"
   ]
  },
  {
   "cell_type": "markdown",
   "id": "5fdffdf6",
   "metadata": {},
   "source": [
    "# 複数の入力を持つ予測"
   ]
  },
  {
   "cell_type": "code",
   "execution_count": 23,
   "id": "780c7fc1",
   "metadata": {
    "ExecuteTime": {
     "end_time": "2023-09-01T15:12:02.615000+09:00",
     "start_time": "2023-09-01T06:12:02.601Z"
    }
   },
   "outputs": [
    {
     "data": {
      "text/plain": [
       "neural_network (generic function with 2 methods)"
      ]
     },
     "execution_count": 23,
     "metadata": {},
     "output_type": "execute_result"
    }
   ],
   "source": [
    "# 複数の入力を持つニューラルネットワークの順伝播\n",
    "using LinearAlgebra\n",
    "neural_network(;input, weight) = LinearAlgebra.dot(input, weight)"
   ]
  },
  {
   "cell_type": "code",
   "execution_count": 26,
   "id": "49d06c8d",
   "metadata": {
    "ExecuteTime": {
     "end_time": "2023-09-01T15:15:11.489000+09:00",
     "start_time": "2023-09-01T06:15:11.441Z"
    }
   },
   "outputs": [
    {
     "data": {
      "text/plain": [
       "0.9800000000000001"
      ]
     },
     "execution_count": 26,
     "metadata": {},
     "output_type": "execute_result"
    }
   ],
   "source": [
    "# データ\n",
    "toes = [8.5, 9.5, 9.9, 9.0]\n",
    "wlrec = [0.65, 0.8, 0.8, 0.9]\n",
    "nfans = [1.2, 1.3, 0.5, 1.0]\n",
    "\n",
    "input_val = [toes[1], wlrec[1], nfans[1]]\n",
    "\n",
    "# 重み\n",
    "weights = [0.1, 0.2, 0]\n",
    "\n",
    "# 順伝播の計算\n",
    "pred = neural_network(input=input_val, weight=weights)"
   ]
  },
  {
   "cell_type": "markdown",
   "id": "121b9d6f",
   "metadata": {},
   "source": [
    "# 複数の入力:このニューラルネットワークは何をするか\n",
    "スクリプトはなし"
   ]
  },
  {
   "cell_type": "markdown",
   "id": "f0531cda",
   "metadata": {},
   "source": [
    "# 複数の入力：完全なコード"
   ]
  },
  {
   "cell_type": "code",
   "execution_count": 30,
   "id": "91cfa654",
   "metadata": {
    "ExecuteTime": {
     "end_time": "2023-09-01T15:24:07.772000+09:00",
     "start_time": "2023-09-01T06:23:05.657Z"
    }
   },
   "outputs": [
    {
     "name": "stderr",
     "output_type": "stream",
     "text": [
      "\u001b[32m\u001b[1m   Resolving\u001b[22m\u001b[39m package versions...\n",
      "\u001b[32m\u001b[1m  No Changes\u001b[22m\u001b[39m to `C:\\Users\\stone\\.julia\\environments\\v1.9\\Project.toml`\n",
      "\u001b[32m\u001b[1m  No Changes\u001b[22m\u001b[39m to `C:\\Users\\stone\\.julia\\environments\\v1.9\\Manifest.toml`\n"
     ]
    },
    {
     "data": {
      "text/plain": [
       "neural_network (generic function with 2 methods)"
      ]
     },
     "execution_count": 30,
     "metadata": {},
     "output_type": "execute_result"
    }
   ],
   "source": [
    "using Pkg # Juliaのパッケージを追加するためのパッケージ\n",
    "Pkg.add(\"PyCall\") # PyCallをインストール\n",
    "using PyCall # PyCallのimport\n",
    "@pyimport numpy as np # numpyのimport"
   ]
  },
  {
   "cell_type": "code",
   "execution_count": 32,
   "id": "221318c0",
   "metadata": {
    "ExecuteTime": {
     "end_time": "2023-09-01T15:24:24.198000+09:00",
     "start_time": "2023-09-01T06:24:24.110Z"
    }
   },
   "outputs": [
    {
     "data": {
      "text/plain": [
       "0.9800000000000001"
      ]
     },
     "execution_count": 32,
     "metadata": {},
     "output_type": "execute_result"
    }
   ],
   "source": [
    "# 順伝播の関数(numpy使って書いた版)\n",
    "neural_network(;input, weight) = np.dot(input, weight)\n",
    "pred = neural_network(input=input_val, weight=weights)"
   ]
  },
  {
   "cell_type": "markdown",
   "id": "f6fdad6c",
   "metadata": {
    "ExecuteTime": {
     "end_time": "2023-09-01T15:28:56.448000+09:00",
     "start_time": "2023-09-01T06:28:56.442Z"
    }
   },
   "source": [
    "# 複数の出力を持つ予測"
   ]
  },
  {
   "cell_type": "code",
   "execution_count": 2,
   "id": "65d820a9",
   "metadata": {
    "ExecuteTime": {
     "end_time": "2023-09-27T17:59:35.336000+09:00",
     "start_time": "2023-09-27T08:59:35.035Z"
    }
   },
   "outputs": [
    {
     "name": "stdout",
     "output_type": "stream",
     "text": [
      "[0.195, 0.13, 0.5850000000000001]\n"
     ]
    }
   ],
   "source": [
    "# 順伝播の関数\n",
    "neural_network(;input, weights) = input*weights\n",
    "\n",
    "input_val = 0.65\n",
    "weights_val = [0.3, 0.2, 0.9]\n",
    "\n",
    "pred = neural_network(input=input_val, weights=weights_val)\n",
    "println(pred)"
   ]
  },
  {
   "cell_type": "markdown",
   "id": "6fd592e1",
   "metadata": {},
   "source": [
    "# 複数の入力と出力を持つ予測"
   ]
  },
  {
   "cell_type": "code",
   "execution_count": 5,
   "id": "6585421b",
   "metadata": {
    "ExecuteTime": {
     "end_time": "2023-09-28T22:46:44.190000+09:00",
     "start_time": "2023-09-28T13:46:44.086Z"
    }
   },
   "outputs": [
    {
     "name": "stdout",
     "output_type": "stream",
     "text": [
      "[0.5550000000000002, 0.9800000000000001, 0.9650000000000001]\n"
     ]
    }
   ],
   "source": [
    "# 順伝播の関数\n",
    "neural_network(;input, weights) = weights*input\n",
    "\n",
    "toes = [8.5, 9.5, 9.9, 9.0]\n",
    "wlrec = [0.65, 0.8, 0.8, 0.9]\n",
    "nfans = [1.2, 1.3, 0.5, 1.0]\n",
    "\n",
    "input_val = [toes[1], wlrec[1], nfans[1]]\n",
    "weights_val = [\n",
    "    0.1 0.1 -0.3;\n",
    "    0.1 0.2 0.0;\n",
    "    00 1.3 0.1\n",
    "]\n",
    "\n",
    "pred = neural_network(input=input_val, weights=weights_val)\n",
    "println(pred)"
   ]
  },
  {
   "cell_type": "markdown",
   "id": "58014011",
   "metadata": {
    "ExecuteTime": {
     "end_time": "2023-09-28T22:43:46.673000+09:00",
     "start_time": "2023-09-28T13:43:44.812Z"
    }
   },
   "source": [
    "# 複数の入力と出力：どのような仕組みになっているか\n",
    "スクリプトはなし"
   ]
  },
  {
   "cell_type": "markdown",
   "id": "30d3cd3e",
   "metadata": {},
   "source": [
    "# 予測値に基づく予測"
   ]
  },
  {
   "cell_type": "code",
   "execution_count": 6,
   "id": "e955ee81",
   "metadata": {
    "ExecuteTime": {
     "end_time": "2023-09-28T22:54:55.474000+09:00",
     "start_time": "2023-09-28T13:54:55.403Z"
    }
   },
   "outputs": [
    {
     "name": "stdout",
     "output_type": "stream",
     "text": [
      "[0.21349999999999986, 0.14500000000000002, 0.5065]\n"
     ]
    }
   ],
   "source": [
    "# 順伝播の関数\n",
    "neural_network(;input, weights) = weights[2]*weights[1]*input\n",
    "\n",
    "toes = [8.5, 9.5, 9.9, 9.0]\n",
    "wlrec = [0.65, 0.8, 0.8, 0.9]\n",
    "nfans = [1.2, 1.3, 0.5, 1.0]\n",
    "\n",
    "input_val = [toes[1], wlrec[1], nfans[1]]\n",
    "\n",
    "# 入力層(input)から隠れ層(hidden)への重み\n",
    "ih_wgt = [\n",
    "    0.1 0.2 -0.1;\n",
    "    -0.1 0.1 0.9;\n",
    "    0.1 0.4 0.1\n",
    "]\n",
    "\n",
    "# 隠れ層(hidden)から出力層(predict)への重み\n",
    "hp_wgt = [\n",
    "    0.3 1.1 0-0.3;\n",
    "    0.1 0.2 0.0;\n",
    "    0.0 1.3 0.1\n",
    "]\n",
    "\n",
    "weights_val = [ih_wgt, hp_wgt]\n",
    "\n",
    "pred = neural_network(input=input_val, weights=weights_val)\n",
    "println(pred)"
   ]
  },
  {
   "cell_type": "markdown",
   "id": "59e6acc8",
   "metadata": {},
   "source": [
    "# 速習：Numpy\n",
    "スクリプトは省略"
   ]
  },
  {
   "cell_type": "markdown",
   "id": "d5dc16b7",
   "metadata": {},
   "source": [
    "# まとめ\n",
    "スクリプトは省略"
   ]
  }
 ],
 "metadata": {
  "kernelspec": {
   "display_name": "Julia 1.9.2",
   "language": "julia",
   "name": "julia-1.9"
  },
  "language_info": {
   "file_extension": ".jl",
   "mimetype": "application/julia",
   "name": "julia",
   "version": "1.9.2"
  },
  "toc": {
   "base_numbering": 1,
   "nav_menu": {},
   "number_sections": true,
   "sideBar": true,
   "skip_h1_title": false,
   "title_cell": "Table of Contents",
   "title_sidebar": "Contents",
   "toc_cell": false,
   "toc_position": {},
   "toc_section_display": true,
   "toc_window_display": false
  }
 },
 "nbformat": 4,
 "nbformat_minor": 5
}
